{
 "cells": [
  {
   "cell_type": "code",
   "execution_count": 12,
   "metadata": {},
   "outputs": [],
   "source": [
    "%matplotlib inline\n",
    "import numpy as np\n",
    "# import _pickle as cPickle\n",
    "# import os\n",
    "# import gzip\n",
    "# from IPython.core.debugger import set_trace\n",
    "# import scipy.optimize\n",
    "import matplotlib.pyplot as plt\n",
    "import tensorflow as tf\n",
    "\n",
    "from __future__ import absolute_import\n",
    "from __future__ import division\n",
    "from __future__ import print_function\n",
    "\n",
    "import argparse\n",
    "import sys"
   ]
  },
  {
   "cell_type": "markdown",
   "metadata": {},
   "source": [
    "# Second exercise: CNN\n",
    "In this exercise you will implement a CNN"
   ]
  },
  {
   "cell_type": "code",
   "execution_count": 13,
   "metadata": {},
   "outputs": [
    {
     "name": "stdout",
     "output_type": "stream",
     "text": [
      "Extracting MNIST_data/train-images-idx3-ubyte.gz\n",
      "Extracting MNIST_data/train-labels-idx1-ubyte.gz\n",
      "Extracting MNIST_data/t10k-images-idx3-ubyte.gz\n",
      "Extracting MNIST_data/t10k-labels-idx1-ubyte.gz\n",
      "mnist Datasets(train=<tensorflow.contrib.learn.python.learn.datasets.mnist.DataSet object at 0x7f669bdb6e80>, validation=<tensorflow.contrib.learn.python.learn.datasets.mnist.DataSet object at 0x7f669bdb6d30>, test=<tensorflow.contrib.learn.python.learn.datasets.mnist.DataSet object at 0x7f669bd02dd8>)\n"
     ]
    }
   ],
   "source": [
    "# load data\n",
    "from tensorflow.examples.tutorials.mnist import input_data\n",
    "mnist = input_data.read_data_sets(\"MNIST_data/\", one_hot=True)\n",
    "print(\"mnist {}\".format(mnist))"
   ]
  },
  {
   "cell_type": "markdown",
   "metadata": {},
   "source": []
  },
  {
   "cell_type": "code",
   "execution_count": 16,
   "metadata": {},
   "outputs": [],
   "source": [
    "# define input variable\n",
    "x = tf.placeholder(tf.float32, [None, 784])\n",
    "y_ = tf.placeholder(tf.float32, [None, 10])\n",
    "\n",
    "# initialize weights with a small amount of noise for symmetry breaking, and to prevent 0 gradients\n",
    "# The generated values follow a normal distribution with specified mean and standard deviation, \n",
    "# except that values whose magnitude is more than 2 standard deviations from the mean are dropped and re-picked.\n",
    "def weight_variable(shape):\n",
    "  initial = tf.truncated_normal(shape, stddev=0.1)\n",
    "  return tf.Variable(initial)\n",
    "\n",
    "# define constant bias\n",
    "def bias_variable(shape):\n",
    "  initial = tf.constant(0.1, shape=shape)\n",
    "  return tf.Variable(initial)\n",
    "\n",
    "# Computes a 2-D convolution given 4-D input and filter tensors. returning 4D tensor of same type as x\n",
    "# ? means zero padding überall 2, oder ?\n",
    "def conv2d(x, W):\n",
    "  return tf.nn.conv2d(x, W, strides=[1, 1, 1, 1], padding='SAME')\n",
    "\n",
    "def max_pool_2x2(x):\n",
    "  return tf.nn.max_pool(x, ksize=[1, 2, 2, 1],\n",
    "                        strides=[1, 2, 2, 1], padding='SAME')\n",
    "\n",
    "# first convolutional layer with 32 nodes --> woher die 32?? \n",
    "# initialise weights and bias (slightly randomized)\n",
    "W_conv1 = weight_variable([5, 5, 1, 32])\n",
    "b_conv1 = bias_variable([32])\n",
    "\n",
    "# define tensor representing input layer: reshape flattened 748 Vector to 4d tensor 28 x 28 image matrixes\n",
    "# and the final dimension corresponding to the number of color channels.\n",
    "x_image = tf.reshape(x, [-1, 28, 28, 1])\n",
    "\n",
    "# convolve, same size (padding, stride...), reduce size to 14x14 by maxpooling\n",
    "h_conv1 = tf.nn.relu(conv2d(x_image, W_conv1) + b_conv1)\n",
    "h_pool1 = max_pool_2x2(h_conv1)\n",
    "\n",
    "# define second layer concolving same size, max-pooling --> 7x7   64 features ??\n",
    "W_conv2 = weight_variable([5, 5, 32, 64])\n",
    "b_conv2 = bias_variable([64])\n",
    "\n",
    "# convolve, same size (padding, stride...), reduce size to 14x14 by maxpooling\n",
    "h_conv2 = tf.nn.relu(conv2d(h_pool1, W_conv2) + b_conv2)\n",
    "h_pool2 = max_pool_2x2(h_conv2)\n",
    "\n",
    "# we add a fully-connected layer with 1024 neurons to allow processing on the entire image.\n",
    "# We reshape the tensor from the pooling layer into a batch of vectors, multiply by a weight matrix, add a bias, \n",
    "# and apply a ReLU.\n",
    "W_fc1 = weight_variable([7 * 7 * 64, 1024])\n",
    "b_fc1 = bias_variable([1024])\n",
    "\n",
    "h_pool2_flat = tf.reshape(h_pool2, [-1, 7*7*64])\n",
    "h_fc1 = tf.nn.relu(tf.matmul(h_pool2_flat, W_fc1) + b_fc1)\n",
    "\n",
    "# implement dropout\n",
    "keep_prob = tf.placeholder(tf.float32)\n",
    "h_fc1_drop = tf.nn.dropout(h_fc1, keep_prob)\n",
    "\n",
    "# final fully connected layer\n",
    "W_fc2 = weight_variable([1024, 10])\n",
    "b_fc2 = bias_variable([10])\n",
    "\n",
    "y_conv = tf.matmul(h_fc1_drop, W_fc2) + b_fc2"
   ]
  },
  {
   "cell_type": "code",
   "execution_count": 17,
   "metadata": {},
   "outputs": [
    {
     "name": "stdout",
     "output_type": "stream",
     "text": [
      "step 0, training accuracy 0.06\n",
      "step 50, training accuracy 0.68\n",
      "test\n",
      "test accuracy 0.8562\n"
     ]
    }
   ],
   "source": [
    "cross_entropy = tf.reduce_mean(tf.nn.softmax_cross_entropy_with_logits(labels=y_, logits=y_conv))\n",
    "train_step = tf.train.AdamOptimizer(1e-4).minimize(cross_entropy)\n",
    "correct_prediction = tf.equal(tf.argmax(y_conv, 1), tf.argmax(y_, 1))\n",
    "accuracy = tf.reduce_mean(tf.cast(correct_prediction, tf.float32))\n",
    "\n",
    "with tf.Session() as sess:\n",
    "  sess.run(tf.global_variables_initializer())\n",
    "  for i in range(100):\n",
    "    batch = mnist.train.next_batch(50)\n",
    "    if i % 50 == 0:\n",
    "      train_accuracy = accuracy.eval(feed_dict={\n",
    "          x: batch[0], y_: batch[1], keep_prob: 1.0})\n",
    "      print('step %d, training accuracy %g' % (i, train_accuracy))\n",
    "    train_step.run(feed_dict={x: batch[0], y_: batch[1], keep_prob: 0.5})\n",
    "\n",
    "  print(\"test\")\n",
    "  print('test accuracy %g' % accuracy.eval(feed_dict={\n",
    "      x: mnist.test.images, y_: mnist.test.labels, keep_prob: 1.0}))"
   ]
  },
  {
   "cell_type": "markdown",
   "metadata": {},
   "source": [
    "# Neural Network class\n",
    "With all layers in place (and properly implemented by you) we can finally define a neural network.\n",
    "For our purposes a neural network is simply a collection of layers which we will cycle through and on which we will call fprop and bprop to compute partial derivatives with respect to the input and the parameters.\n",
    "\n",
    "Pay special attention to the *check_gradients()* function in which you should implement automatic differentiation. This function will become your best friend when checking the correctness of your implementation."
   ]
  },
  {
   "cell_type": "code",
   "execution_count": 5,
   "metadata": {},
   "outputs": [],
   "source": [
    "class NeuralNetwork:\n",
    "    \"\"\" Our Neural Network container class. # \n",
    "    \"\"\"\n",
    "    def __init__(self, layers):    # https://www.python-course.eu/python3_magic_methods.php __init is called automatically, here the method is overloaded\n",
    "        self.layers = layers\n",
    "        \n",
    "    def _loss(self, X, Y):    # single underscore used by convention to avoid conflicts with python keywords\n",
    "        Y_pred = self.predict(X)    # yields output of softmax\n",
    "        return self.layers[-1].loss(Y, Y_pred)    # loss function of last layer\n",
    "\n",
    "    def predict(self, X):    # forward pass through all layers, return Y_pred (Ŷ)   \n",
    "        \"\"\" Calculate an output Y for the given input X. \"\"\"\n",
    "        # print(\"predict\\n\")\n",
    "        next_output = X\n",
    "        # set_trace()\n",
    "        for l, layer in enumerate(self.layers):\n",
    "            next_output = layer.fprop(next_output)    # z1 = layer.fprop(z0)\n",
    "            # print(\"predict layer {} next_output \\n{} \\n\".format(l,next_output))\n",
    "        Y_pred = next_output\n",
    "        return Y_pred         # (n,10), as returned by softmax --> to be interpreted as one hot encoded\n",
    "\n",
    "    def backpropagate(self, Y, Y_pred, upto=0):    # updating all W,b params \n",
    "        \"\"\" Backpropagation of partial derivatives through \n",
    "            the complete network up to layer 'upto'\n",
    "        \"\"\"\n",
    "        # backpropagate through all layers, start with last layer, there call input_grad() instead of bprop\n",
    "        next_grad = self.layers[-1].input_grad(Y, Y_pred)   # returns \"input_grad\" dL/da3 of upper fully connected layer\n",
    "        for layer in reversed(self.layers[upto:-1]):    # run backwards, from the second last down to \"upto\"\n",
    "            next_grad = layer.bprop(next_grad) \n",
    "\n",
    "        return next_grad       # return gradient of last layer, dL/dX (n,D)\n",
    "    \n",
    "    def classification_error(self, X, Y):\n",
    "        \"\"\" Calculate error on the given data \n",
    "            assuming they are classes that should be predicted. \n",
    "        \"\"\"\n",
    "        Y_pred = unhot(self.predict(X))     # convert softmax output vector --> digit \n",
    "        error = Y_pred != Y\n",
    "        return np.mean(error)   # error rate\n",
    "\n",
    "     \n",
    "    def update_network(self, learning_rate):        # update all parameters given current gradients\n",
    "        for lc, layer in enumerate(self.layers):\n",
    "            if isinstance(layer, Parameterized):     # only parameterized layers, not input and output_layer\n",
    "                layer.W = layer.W - layer.dW * learning_rate\n",
    "                layer.b = layer.b - layer.db * learning_rate\n",
    "\n",
    "                \n",
    "    def sgd_epoch(self, X, Y, learning_rate, batch_size):\n",
    "        n_samples = X.shape[0]\n",
    "        n_batches = n_samples // batch_size      # define the number of mini batches\n",
    "        for b in range(n_batches):\n",
    "            batch_start = b * batch_size\n",
    "            batch_end = (b + 1) * batch_size\n",
    "            \n",
    "            X_batch = X[batch_start:batch_end]\n",
    "            Y_batch = Y[batch_start:batch_end]   # if batch_end too large --> gets ignored by numpy  \n",
    "            \n",
    "            Y_batch_pred = self.predict(X_batch)\n",
    "            \n",
    "            self.backpropagate(Y_batch, Y_batch_pred)\n",
    "            \n",
    "            self.update_network(learning_rate)\n",
    "            \n",
    "    def gd_epoch(self, X, Y, learning_rate):       # ? why no learning rate here ?\n",
    "        # first attempt: whole dataset\n",
    "        Y_pred = self.predict(X)         # predict Y based on given data and presend parameter settings\n",
    "        # print(\"predict {}\\n\".format(Y_pred))\n",
    "        self.backpropagate(Y, Y_pred)    # comparing Y and Y_pred calculate gradients of all parameters (stored in layers)\n",
    "\n",
    "        # update all parameters of all layers\n",
    "        self.update_network(learning_rate)\n",
    "\n",
    "        \n",
    "    def train(self, X, Y, X_val=[], Y_val=[], learning_rate=0.1, max_epochs=100, \n",
    "              batch_size=64, descent_type=\"sgd\", y_one_hot=True):\n",
    "        \"\"\" Train network on the given data. \"\"\"\n",
    "\n",
    "        train_errors = list()\n",
    "        valid_errors = list()\n",
    "        \n",
    "        n_samples = X.shape[0]              \n",
    "        n_batches = n_samples // batch_size\n",
    "        if y_one_hot:           # !! y_one_hot = False yields error, because self.predict always un_hots \n",
    "            Y_train = one_hot(Y)\n",
    "        else:\n",
    "            Y_train = Y\n",
    "        print(\"... starting training\")\n",
    "        for e in range(max_epochs+1):\n",
    "            if descent_type == \"sgd\":\n",
    "                self.sgd_epoch(X, Y_train, learning_rate, batch_size)\n",
    "            elif descent_type == \"gd\":\n",
    "                self.gd_epoch(X, Y_train, learning_rate)\n",
    "            else:\n",
    "                raise NotImplementedError(\"Unknown gradient descent type {}\".format(descent_type))\n",
    "\n",
    "            # Output error on the training data\n",
    "            train_loss = self._loss(X, Y_train)             # calls one forward pass given X and computes loss on result\n",
    "            train_error = self.classification_error(X, Y) * 100  # calls one forward pass given X and counts error-rate (in % of all data)\n",
    "            train_errors.append(train_error)\n",
    "\n",
    "            if len(X_val) > 0:\n",
    "                valid_error = self.classification_error(X_val, Y_val) * 100   # \n",
    "                valid_errors.append(valid_error)\n",
    "\n",
    "                print('epoch {} loss {:.4f}, train error {:.3f}%, valid error {:.3f}%'.\\\n",
    "                      format(e, train_loss, train_error, valid_error))            \n",
    "            else:\n",
    "                print('epoch {} loss {:.4f}, train error {:.3f}%'.\\\n",
    "                      format(e, train_loss, train_error))            \n",
    "\n",
    "        return(train_errors, valid_errors)\n",
    "\n",
    "    \n",
    "    def check_gradients(self, X, Y):\n",
    "        \"\"\" Helper function to test the parameter gradients for\n",
    "        correctness. \"\"\"\n",
    "        for l, layer in enumerate(self.layers):\n",
    "            if isinstance(layer, Parameterized):      # not for layers without parameters (input / output)\n",
    "                print('checking gradient for layer {}'.format(l))\n",
    "                for p, param in enumerate(layer.params()):    # layer.params() returns layer.W and layer.b (p=tuple(2,))\n",
    "                    # we iterate through all parameters, first W then b\n",
    "                    param_shape = param.shape\n",
    "\n",
    "                    def output_given_params(param_new):  # return output / loss of total network given new params\n",
    "                        \"\"\" A function that will compute the output \n",
    "                            of the network given a set of parameters\n",
    "                        \"\"\"\n",
    "                        # assign new params to param of this layer, referenced by param[:]\n",
    "                        param[:] = np.reshape(param_new, param_shape)    # \n",
    "                        # return loss, computed with these new params\n",
    "                        return self._loss(X, Y)\n",
    "\n",
    "                    def grad_given_params(param_new):     # return grad of this param (W or b) given the param\n",
    "                        \"\"\"A function that will compute the gradient \n",
    "                           of the network given a set of parameters\n",
    "                        \"\"\"\n",
    "                        # assign new param W or b to this layer, referenced by param[:]\n",
    "                        param[:] = np.reshape(param_new, param_shape)\n",
    "                        \n",
    "                        Y_pred = self.predict(X)               # prediction based on new params, softmax output vector (n,10)\n",
    "                        # backpropagate given new Y_pred, update all gradients dW, db up to this layer \n",
    "                        self.backpropagate(Y, Y_pred, upto=l)  # Backpropagation of partial derivatives \n",
    "                        return np.ravel(self.layers[l].grad_params()[p])\n",
    "\n",
    "                    # let the initial parameters be the ones that\n",
    "                    # are currently placed in the network and flatten them\n",
    "                    # to a vector for convenient comparisons, printing etc.\n",
    "                    param_init = np.ravel(np.copy(param))\n",
    "\n",
    "                    epsilon = 1e-4\n",
    "                    # sci_err = scipy.optimize.check_grad(output_given_params, grad_given_params, param_init, epsilon=epsilon)\n",
    "                    # print('scipy_grad_error {:.2e} \\n'.format(sci_err))                    \n",
    "                    \n",
    "                    loss_base = output_given_params(param_init)    # scalar loss at current params\n",
    "\n",
    "                    # for each single element of W,b make eps step and calculate finite difference\n",
    "                    gparam_fd = np.zeros_like(param_init)    # gradient calculated through finited differences\n",
    "                    new_param = np.zeros_like(param_init)    # new, eps-deviated param for testing\n",
    "                    for i in range(param_init.shape[0]):     # go through all rows and colums of this W or b \n",
    "                        new_param[:] = param_init            # set back to orignial value\n",
    "\n",
    "                        new_param[i] = param_init[i] + epsilon    # vary only for this element\n",
    "                        loss_plus = output_given_params(new_param)           \n",
    "\n",
    "                        gparam_fd[i] = (loss_plus - loss_base) / (epsilon)   # dfferential --> approximated gradient                            \n",
    "                    \n",
    "                    gparam_bprop = grad_given_params(param_init)  # gradient als calculated by bprop\n",
    "\n",
    "                    err = np.sqrt(np.sum((gparam_bprop - gparam_fd)**2))  # same as in SciPi \n",
    "                    print('grad_error {:.2e}'.format(err))\n",
    "                    \n",
    "                    # reset the parameters to their initial values\n",
    "                    param[:] = np.reshape(param_init, param_shape)"
   ]
  },
  {
   "cell_type": "code",
   "execution_count": 7,
   "metadata": {},
   "outputs": [
    {
     "name": "stdout",
     "output_type": "stream",
     "text": [
      "... starting training\n",
      "epoch 0 loss 1.0900, train error 50.000%\n",
      "epoch 1 loss 1.0801, train error 50.000%\n",
      "epoch 2 loss 1.0720, train error 50.000%\n",
      "epoch 3 loss 1.0654, train error 50.000%\n",
      "epoch 4 loss 1.0601, train error 50.000%\n",
      "epoch 5 loss 1.0558, train error 50.000%\n"
     ]
    },
    {
     "data": {
      "text/plain": [
       "([50.0, 50.0, 50.0, 50.0, 50.0, 50.0], [])"
      ]
     },
     "execution_count": 7,
     "metadata": {},
     "output_type": "execute_result"
    }
   ],
   "source": [
    "# first micro toy network for preliminary tests\n",
    "X = np.array([[1.,2.,3.],[2.,5.,3.],[2.,4.,6.],[1.,2.,3.]])   \n",
    "y = np.array([1,2,0,1])\n",
    "\n",
    "mini_layers = [InputLayer(X.shape)]\n",
    "mini_layers.append(FullyConnectedLayer(\n",
    "                mini_layers[-1],      \n",
    "                num_units=5,    \n",
    "                init_stddev=0.1,\n",
    "                activation_fun=Activation('relu')\n",
    "                # activation_fun = None    \n",
    "))\n",
    "mini_layers.append(FullyConnectedLayer(\n",
    "                mini_layers[-1],      \n",
    "                num_units=2,    \n",
    "                init_stddev=0.1,\n",
    "                activation_fun=Activation('sigmoid')\n",
    "                # activation_fun = None    \n",
    "))\n",
    "mini_layers.append(FullyConnectedLayer(\n",
    "                mini_layers[-1],      \n",
    "                num_units=3,    # number of classes = number of different digits in y\n",
    "                init_stddev=0.1,\n",
    "                # activation_fun=Activation('relu')\n",
    "                activation_fun = None    \n",
    "))\n",
    "mini_layers.append(SoftmaxOutput(mini_layers[-1]))\n",
    "\n",
    "nn_mini = NeuralNetwork(mini_layers)\n",
    "y_one_hot = one_hot(y)\n",
    "nn_mini.train(X, y, learning_rate=0.1, \n",
    "              max_epochs=5, batch_size=2, descent_type=\"sgd\", y_one_hot=True)"
   ]
  },
  {
   "cell_type": "markdown",
   "metadata": {},
   "source": [
    "# Gradient Checking\n",
    "After implementing everything it is always a good idea to setup some layers and perform gradient\n",
    "checking on random data. **Note** that this is only an example! It is not a useful network architecture ;). We also expect you to play around with this to test all your implemented components."
   ]
  },
  {
   "cell_type": "code",
   "execution_count": 8,
   "metadata": {},
   "outputs": [],
   "source": [
    "input_shape = (5, 10)\n",
    "n_labels = 6\n",
    "layers = [InputLayer(input_shape)]\n",
    "\n",
    "layers.append(FullyConnectedLayer(\n",
    "                layers[-1],      \n",
    "                num_units=15,\n",
    "                init_stddev=0.1,\n",
    "                activation_fun=Activation('relu')\n",
    "))\n",
    "layers.append(FullyConnectedLayer(\n",
    "                layers[-1],\n",
    "                num_units=6,\n",
    "                init_stddev=0.1,\n",
    "                activation_fun=Activation('tanh')\n",
    "))\n",
    "layers.append(FullyConnectedLayer(\n",
    "                layers[-1],\n",
    "                num_units=n_labels,\n",
    "                init_stddev=0.1,\n",
    "                activation_fun=Activation('relu')\n",
    "))\n",
    "layers.append(SoftmaxOutput(layers[-1]))\n",
    "nn = NeuralNetwork(layers)"
   ]
  },
  {
   "cell_type": "code",
   "execution_count": 9,
   "metadata": {},
   "outputs": [],
   "source": [
    "# create random data\n",
    "X = np.random.normal(size=input_shape)\n",
    "# and random labels\n",
    "Y = np.zeros((input_shape[0], n_labels))\n",
    "for i in range(Y.shape[0]):\n",
    "    idx = np.random.randint(n_labels)\n",
    "    Y[i, idx] = 1."
   ]
  },
  {
   "cell_type": "code",
   "execution_count": 10,
   "metadata": {},
   "outputs": [
    {
     "name": "stdout",
     "output_type": "stream",
     "text": [
      "checking gradient for layer 1\n",
      "grad_error 1.24e-07\n",
      "grad_error 1.92e-08\n",
      "checking gradient for layer 2\n",
      "grad_error 2.53e-07\n",
      "grad_error 4.29e-07\n",
      "checking gradient for layer 3\n",
      "grad_error 1.24e-07\n",
      "grad_error 1.03e-05\n"
     ]
    }
   ],
   "source": [
    "nn.check_gradients(X, Y)"
   ]
  },
  {
   "cell_type": "markdown",
   "metadata": {},
   "source": [
    "# Training on MNIST\n",
    "Finally we can let our network run on the MNIST dataset!"
   ]
  },
  {
   "cell_type": "code",
   "execution_count": 11,
   "metadata": {},
   "outputs": [
    {
     "name": "stdout",
     "output_type": "stream",
     "text": [
      "... loading data\n",
      "... done loading data\n"
     ]
    }
   ],
   "source": [
    "Dtrain, Dval, Dtest = mnist()\n",
    "X_train, y_train = Dtrain\n",
    "X_valid, y_valid = Dval\n",
    "X_test,  y_test  = Dtest\n",
    "# Downsample training data to make it a bit faster for testing this code\n",
    "n_train_samples = 100000   # larger than actual number of samples --> take all data\n",
    "n_valid_samples = 100000\n",
    "n_test_samples = 100000\n",
    "\n",
    "train_idxs = np.random.permutation(X_train.shape[0])[:n_train_samples]\n",
    "X_train = X_train[train_idxs]\n",
    "y_train = y_train[train_idxs]\n",
    "\n",
    "valid_idxs = np.random.permutation(X_valid.shape[0])[:n_valid_samples]\n",
    "X_valid = X_valid[valid_idxs]\n",
    "y_valid = y_valid[valid_idxs]\n",
    "\n",
    "test_idxs = np.random.permutation(X_test.shape[0])[:n_test_samples]\n",
    "X_test = X_test[test_idxs]\n",
    "y_test = y_test[test_idxs]"
   ]
  },
  {
   "cell_type": "markdown",
   "metadata": {},
   "source": [
    "*Dtrain* contains 50k images which are of size 28 x 28 pixels. Hence:"
   ]
  },
  {
   "cell_type": "code",
   "execution_count": 12,
   "metadata": {},
   "outputs": [
    {
     "name": "stdout",
     "output_type": "stream",
     "text": [
      "X_train shape: (50000, 1, 28, 28)\n",
      "y_train shape: (50000,)\n",
      "y_valid shape: (10000,)\n",
      "y_test shape: (10000,)\n"
     ]
    }
   ],
   "source": [
    "print(\"X_train shape: {}\".format(np.shape(X_train)))\n",
    "print(\"y_train shape: {}\".format(np.shape(y_train)))\n",
    "\n",
    "print(\"y_valid shape: {}\".format(np.shape(y_valid)))\n",
    "print(\"y_test shape: {}\".format(np.shape(y_test)))"
   ]
  },
  {
   "cell_type": "markdown",
   "metadata": {},
   "source": [
    "y_train will automatically be converted in the *train()* function to one_hot encoding.\n",
    "\n",
    "\n",
    "But we need to reshape X_train, as our Network expects flat vectors of size 28*28 as input!"
   ]
  },
  {
   "cell_type": "code",
   "execution_count": 13,
   "metadata": {},
   "outputs": [
    {
     "name": "stdout",
     "output_type": "stream",
     "text": [
      "Reshaped X_train size: (50000, 784)\n"
     ]
    }
   ],
   "source": [
    "X_train = X_train.reshape(X_train.shape[0], -1)\n",
    "print(\"Reshaped X_train size: {}\".format(X_train.shape))\n",
    "X_valid = X_valid.reshape(X_valid.shape[0], -1)\n",
    "X_test = X_test.reshape(X_test.shape[0], -1)"
   ]
  },
  {
   "cell_type": "markdown",
   "metadata": {},
   "source": [
    "Ah, much better ;-)! \n",
    "\n",
    "Now we can finally really start training a Network!\n",
    "\n",
    "\n",
    "I pre-defined a small Network for you below. Again This is not really a good default and will not produce state of the art results. Please play around with this a bit. See how different activation functions and training procedures (gd / sgd) affect the result."
   ]
  },
  {
   "cell_type": "code",
   "execution_count": 15,
   "metadata": {
    "scrolled": true
   },
   "outputs": [
    {
     "name": "stdout",
     "output_type": "stream",
     "text": [
      "... starting training\n",
      "epoch 0 loss 0.1576, train error 5.012%, valid error 4.940%\n",
      "epoch 1 loss 0.0879, train error 2.764%, valid error 3.380%\n",
      "epoch 2 loss 0.0635, train error 1.992%, valid error 2.910%\n",
      "epoch 3 loss 0.0497, train error 1.606%, valid error 2.790%\n",
      "epoch 4 loss 0.0464, train error 1.538%, valid error 3.010%\n",
      "epoch 5 loss 0.0269, train error 0.848%, valid error 2.740%\n",
      "epoch 6 loss 0.0461, train error 1.524%, valid error 3.240%\n",
      "epoch 7 loss 0.0202, train error 0.678%, valid error 2.630%\n",
      "epoch 8 loss 0.0127, train error 0.430%, valid error 2.470%\n",
      "epoch 9 loss 0.0257, train error 0.856%, valid error 2.630%\n",
      "epoch 10 loss 0.0097, train error 0.292%, valid error 2.390%\n",
      "Duration: 65.7s\n",
      "\n",
      "Test Error: 0.0256\n"
     ]
    }
   ],
   "source": [
    "import time\n",
    "\n",
    "# Setup a small MLP / Neural Network\n",
    "# we can set the first shape to None here to indicate that\n",
    "# we will input a variable number inputs to the network\n",
    "input_shape = (None, 28*28)\n",
    "layers = [InputLayer(input_shape)]\n",
    "layers.append(FullyConnectedLayer(\n",
    "                layers[-1],\n",
    "                num_units=100,\n",
    "                init_stddev=0.01,\n",
    "                activation_fun=Activation('tanh')\n",
    "))\n",
    "layers.append(FullyConnectedLayer(\n",
    "                layers[-1],\n",
    "                num_units=100,\n",
    "                init_stddev=0.01,\n",
    "                activation_fun=Activation('relu')\n",
    "))\n",
    "layers.append(FullyConnectedLayer(\n",
    "                layers[-1],\n",
    "                num_units=100,\n",
    "                init_stddev=0.01,\n",
    "                activation_fun=Activation('tanh')\n",
    "))\n",
    "layers.append(FullyConnectedLayer(\n",
    "                layers[-1],\n",
    "                num_units=10,        # last layer has 10 units, one for each figure --> one hot encoding\n",
    "                init_stddev=0.01,\n",
    "                # last layer has no nonlinearity \n",
    "                # (softmax will be applied in the output layer)\n",
    "                activation_fun=None \n",
    "))\n",
    "layers.append(SoftmaxOutput(layers[-1]))\n",
    "\n",
    "nn = NeuralNetwork(layers)\n",
    "# Train neural network\n",
    "t0 = time.time()\n",
    "train_errors, valid_errors = nn.train(X_train, y_train, X_valid, y_valid, learning_rate=0.3, \n",
    "         max_epochs=10, batch_size=60, descent_type=\"sgd\", y_one_hot=True)\n",
    "t1 = time.time()\n",
    "print('Duration: {:.1f}s'.format(t1-t0))\n",
    "\n",
    "test_err = nn.classification_error(X_test,y_test)\n",
    "print(\"\\nTest Error: {}\".format(test_err))"
   ]
  },
  {
   "cell_type": "code",
   "execution_count": 17,
   "metadata": {},
   "outputs": [
    {
     "data": {
      "text/plain": [
       "<matplotlib.legend.Legend at 0x7fd7e95d8910>"
      ]
     },
     "execution_count": 17,
     "metadata": {},
     "output_type": "execute_result"
    },
    {
     "data": {
      "image/png": "[encoded data removed]",
      "text/plain": [
       "<matplotlib.figure.Figure at 0x7fd7e9669150>"
      ]
     },
     "metadata": {},
     "output_type": "display_data"
    }
   ],
   "source": [
    "plt.figure(figsize=(12, 8))\n",
    "plt.plot(train_errors, label='Training error in %')\n",
    "plt.plot(valid_errors, label='Validation error in %')\n",
    "plt.grid(True)\n",
    "plt.xlabel(\"Epochs\")\n",
    "plt.legend(loc='best')"
   ]
  },
  {
   "cell_type": "code",
   "execution_count": 18,
   "metadata": {},
   "outputs": [
    {
     "name": "stdout",
     "output_type": "stream",
     "text": [
      "Correctly / incorrectly classified images (first / second row)\n"
     ]
    },
    {
     "data": {
      "image/png": "[encoded data removed]",
      "text/plain": [
       "<matplotlib.figure.Figure at 0x7fd7e95b4a90>"
      ]
     },
     "metadata": {},
     "output_type": "display_data"
    }
   ],
   "source": [
    "start = 30        # starting point in Lists of Images to be displayed\n",
    "                  # select arbitrarily to view different images\n",
    "n_images = 12     # number of images in display\n",
    "\n",
    "y_valid_pred = unhot(nn.predict(X_valid))\n",
    "\n",
    "# print(\"y_valid_pred \\n{}\".format(y_valid_pred[:20]))\n",
    "# print(\"y_valid \\n{}\".format(y_valid[:20]))\n",
    "\n",
    "X_True =  X_valid[y_valid == y_valid_pred]\n",
    "L_True =  y_valid[y_valid == y_valid_pred]\n",
    "L_True_pred = y_valid_pred[y_valid == y_valid_pred]\n",
    "\n",
    "X_False = X_valid[y_valid != y_valid_pred]\n",
    "L_False = y_valid[y_valid != y_valid_pred]\n",
    "L_False_pred = y_valid_pred[y_valid != y_valid_pred]\n",
    "\n",
    "True_images = X_True[start:n_images+start][:].reshape(n_images,28,28)\n",
    "True_Labels = L_True[start:n_images+start]\n",
    "True_Labels_pred = L_True_pred[start:n_images+start]\n",
    "False_images = X_False[start:n_images+start][:].reshape(n_images,28,28)\n",
    "False_Labels = L_False[start:n_images+start]\n",
    "False_Labels_pred = L_False_pred[start:n_images+start]\n",
    "\n",
    "print(\"Correctly / incorrectly classified images (first / second row)\")\n",
    "\n",
    "fig, axes = plt.subplots(2, n_images, squeeze=False, figsize=(18,5))\n",
    "\n",
    "for i in range(n_images):\n",
    "        axes[0][i].imshow(True_images[i], interpolation='nearest')\n",
    "        axes[0][i].set_title('label ' + str(True_Labels[i])+ '\\n' + 'pred ' + str(True_Labels_pred[i]))\n",
    "        axes[0][i].grid(False)\n",
    "        axes[0][i].set_xticks([])\n",
    "        axes[0][i].set_yticks([])   \n",
    "        \n",
    "for i in range(n_images):\n",
    "        axes[1][i].imshow(False_images[i], interpolation='nearest')\n",
    "        axes[1][i].set_title('label ' + str(False_Labels[i])+ '\\n' + 'pred ' + str(False_Labels_pred[i]))        \n",
    "        axes[1][i].grid(False)\n",
    "        axes[1][i].set_xticks([])\n",
    "        axes[1][i].set_yticks([]) "
   ]
  },
  {
   "cell_type": "code",
   "execution_count": null,
   "metadata": {},
   "outputs": [],
   "source": []
  }
 ],
 "metadata": {
  "kernelspec": {
   "display_name": "Python 3",
   "language": "python",
   "name": "python3"
  },
  "language_info": {
   "codemirror_mode": {
    "name": "ipython",
    "version": 3
   },
   "file_extension": ".py",
   "mimetype": "text/x-python",
   "name": "python",
   "nbconvert_exporter": "python",
   "pygments_lexer": "ipython3",
   "version": "3.5.2"
  }
 },
 "nbformat": 4,
 "nbformat_minor": 1
}
