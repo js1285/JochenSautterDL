{
 "cells": [
  {
   "cell_type": "code",
   "execution_count": 17,
   "metadata": {
    "hide_input": false
   },
   "outputs": [],
   "source": [
    "%matplotlib inline\n",
    "import numpy as np\n",
    "# import matplotlib.pyplot as plt\n",
    "import pdb as pdb\n",
    "import time\n",
    "from IPython.core.debugger import set_trace\n",
    "import tensorflow as tf\n",
    "import matplotlib.pyplot as plt\n",
    "from scipy.stats import bernoulli"
   ]
  },
  {
   "cell_type": "code",
   "execution_count": 20,
   "metadata": {},
   "outputs": [
    {
     "name": "stdout",
     "output_type": "stream",
     "text": [
      "true\n",
      "[ 3.  3.  3.  3.  3.]\n",
      "[4 5]\n",
      "92\n"
     ]
    }
   ],
   "source": [
    "lr_lists = np.zeros(5)\n",
    "a = 1\n",
    "if a in [1,2,3]:\n",
    "    print(\"true\")\n",
    "\n",
    "for j in range(len(lr_lists)):\n",
    "    lr_lists[j] = 3\n",
    "print(lr_lists)\n",
    "gaga = np.arange(10)\n",
    "gogo = gaga[:5]\n",
    "gogo = gaga[4:6]\n",
    "print(gogo)\n",
    "\n",
    "offset = (300 - 116) // 2\n",
    "print(offset)\n"
   ]
  },
  {
   "cell_type": "code",
   "execution_count": 9,
   "metadata": {},
   "outputs": [
    {
     "name": "stdout",
     "output_type": "stream",
     "text": [
      "epoch 5\n"
     ]
    }
   ],
   "source": [
    "nepochs = 10\n",
    "stepsize = 5\n",
    "for epoch in range(nepochs):\n",
    "    if (epoch % stepsize == 0) and (epoch > 0):\n",
    "        print(\"epoch {}\".format(epoch))"
   ]
  },
  {
   "cell_type": "code",
   "execution_count": 28,
   "metadata": {},
   "outputs": [
    {
     "data": {
      "text/plain": [
       "array([[ 1],\n",
       "       [ 4],\n",
       "       [ 9],\n",
       "       [16]])"
      ]
     },
     "execution_count": 28,
     "metadata": {},
     "output_type": "execute_result"
    }
   ],
   "source": [
    "z = np.array([[1],[2],[3],[4]])\n",
    "w = np.array([1,2,3,4])\n",
    "z[:,0] = z[:,0]*w\n",
    "z             "
   ]
  },
  {
   "cell_type": "code",
   "execution_count": 24,
   "metadata": {},
   "outputs": [
    {
     "name": "stdout",
     "output_type": "stream",
     "text": [
      "[[1 1 0]\n",
      " [0 1 1]]\n"
     ]
    }
   ],
   "source": [
    "p = 0.5   # phi governing bernoulli distribution\n",
    "mask = np.array([[1,2,3],[1,2,3]])\n",
    "\n",
    "r = bernoulli.rvs(p, size=mask.shape)\n",
    "print(r)"
   ]
  },
  {
   "cell_type": "code",
   "execution_count": 19,
   "metadata": {},
   "outputs": [
    {
     "data": {
      "image/png": "[encoded data removed]",
      "text/plain": [
       "<matplotlib.figure.Figure at 0x7f8141bd68d0>"
      ]
     },
     "metadata": {},
     "output_type": "display_data"
    }
   ],
   "source": [
    "x_vals = np.linspace(-4.2,4.2,1000)\n",
    "\n",
    "# y_vals = np.zeros_like(x_vals)\n",
    "# y = [x**5-17*x**3+16*x]\n",
    "y_vals = [x**5-17*x**3+16*x for x in x_vals]\n",
    "#y_vals = [x**4-17*x**2+16 for x in x_vals]\n",
    "#y_vals = [x**2-17*x**1+16 for x in x_vals]\n",
    "\n",
    "# print(y_vals)\n",
    "\n",
    "plt.figure(figsize=(12, 8))\n",
    "plt.plot(x_vals, y_vals, label='gaga')\n",
    "plt.grid(True)\n",
    "# plt.xlabel(\"x values\")\n",
    "# plt.legend(loc='best')"
   ]
  },
  {
   "cell_type": "code",
   "execution_count": 4,
   "metadata": {},
   "outputs": [
    {
     "name": "stdout",
     "output_type": "stream",
     "text": [
      "<class 'list'>\n",
      "<class 'numpy.ndarray'>\n"
     ]
    },
    {
     "data": {
      "text/plain": [
       "[1, 2, 3]"
      ]
     },
     "execution_count": 4,
     "metadata": {},
     "output_type": "execute_result"
    }
   ],
   "source": [
    "sizes = list([1,2,3,4])\n",
    "biases = [np.random.randn(y, 1) for y in sizes[1:]]\n",
    "print(type(biases))\n",
    "print(type(biases[0]))\n",
    "s = sizes[:3]\n",
    "s"
   ]
  },
  {
   "cell_type": "code",
   "execution_count": 5,
   "metadata": {},
   "outputs": [
    {
     "data": {
      "text/plain": [
       "array([2, 3, 4, 5, 6, 7, 8])"
      ]
     },
     "execution_count": 5,
     "metadata": {},
     "output_type": "execute_result"
    }
   ],
   "source": [
    "a = np.array([1,2,3,4,5,6,7,8])\n",
    "b = a[3:10]\n",
    "# c = np.float(1/np.float(a))\n",
    "c = 100/a\n",
    "d = a[1:]\n",
    "d\n",
    "# for x,y in zip(a[:-1], a[1:]):\n",
    "    # print(\"x: {}\".format(x))\n",
    "    # print(\"y: {}\".format(y))"
   ]
  },
  {
   "cell_type": "code",
   "execution_count": 6,
   "metadata": {},
   "outputs": [
    {
     "name": "stdout",
     "output_type": "stream",
     "text": [
      "5\n",
      "4\n",
      "3\n",
      "2\n"
     ]
    }
   ],
   "source": [
    "a = np.array([1,2,3,4,5,6])\n",
    "for i in reversed(a[1:-1]):\n",
    "    print(i)"
   ]
  },
  {
   "cell_type": "code",
   "execution_count": 10,
   "metadata": {},
   "outputs": [
    {
     "name": "stdout",
     "output_type": "stream",
     "text": [
      "loss\n",
      "[[ 0.5  2.   4.5]\n",
      " [ 2.   0.5  0.5]\n",
      " [ 2.   0.5  0. ]\n",
      " [ 2.   0.   0.5]]\n",
      "loss2 \n",
      "[ 7.   3.   2.5  2.5]\n",
      "loss3 \n",
      "[ 2.64575131  1.73205081  1.58113883  1.58113883]\n",
      "loss4 \n",
      "[ 2.64575131  1.73205081  1.58113883  1.58113883]\n",
      "loss5 \n",
      "30\n",
      "MSE 4.0\n",
      "loss6 26\n"
     ]
    }
   ],
   "source": [
    "# loss function mean squared error\n",
    "Y = np.array([[1,2,3],[2,1,1],[2,1,0],[2,0,1]])\n",
    "loss = 0.5 * Y**2 # \n",
    "loss2 = np.sum(loss, axis=1)\n",
    "loss3 = np.sqrt(np.sum(loss, axis=1))\n",
    "loss4 = np.sqrt(np.sum(0.5 * Y**2, axis=1))\n",
    "loss5 = np.sum(Y**2)\n",
    "print(\"loss\\n{}\".format(loss))\n",
    "print(\"loss2 \\n{}\".format(loss2))\n",
    "print(\"loss3 \\n{}\".format(loss3))\n",
    "print(\"loss4 \\n{}\".format(loss4))\n",
    "print(\"loss5 \\n{}\".format(loss5))\n",
    "\n",
    "# version november 2017\n",
    "Y = np.array([[1,2,3],[2,1,1],[2,1,0],[2,0,1]])\n",
    "Y_pred = np.array([[1,3,4],[3,1,1],[2,2,1],[1,3,1]])\n",
    "\n",
    "Y = np.array([[2,0],[0,2]])\n",
    "Y_pred = np.array([[0,0],[0,0]])\n",
    "\n",
    "MSE = 1./Y.shape[0] * np.sum((Y_pred - Y)**2)\n",
    "print(\"MSE {}\".format(MSE))\n",
    "\n",
    "Z = np.array([[3,2],[2,3]])\n",
    "print(\"loss6 {}\".format(np.sum(Z**2)))"
   ]
  },
  {
   "cell_type": "code",
   "execution_count": 12,
   "metadata": {},
   "outputs": [
    {
     "data": {
      "text/plain": [
       "array([[ 0.34648556,  0.31718448,  0.33632996]])"
      ]
     },
     "execution_count": 12,
     "metadata": {},
     "output_type": "execute_result"
    }
   ],
   "source": [
    "# [-0.24759974 -0.33595734 -0.27734818]\n",
    "\n",
    "# softmax\n",
    "# x = np.array([[1,2,3],[2,3,4],[5,4,3],[1,2,4]])\n",
    "x = np.array([[1,2,3]])\n",
    "x = np.array([[-0.24759974, -0.33595734, -0.27734818]])\n",
    "\n",
    "x_max = np.max(x, axis=1, keepdims=True)\n",
    "x_safe = x - x_max   \n",
    "e_x = np.exp(x_safe)\n",
    "result = e_x / np.sum(e_x, axis=1, keepdims=True)\n",
    "\n",
    "e_x\n",
    "x = np.array([[1,2,3],[2,3,4],[5,4,3],[1,2,4]])\n",
    "a = np.sum(x, axis=1, keepdims=True)\n",
    "b = np.sum(np.exp(x), axis=1, keepdims=True)\n",
    "c = np.exp(x) / np.sum(np.exp(x), axis=1, keepdims=True)   # softmax ()\n",
    "d = np.exp(x)\n",
    "result"
   ]
  },
  {
   "cell_type": "code",
   "execution_count": 13,
   "metadata": {},
   "outputs": [
    {
     "name": "stdout",
     "output_type": "stream",
     "text": [
      "gaga\n"
     ]
    }
   ],
   "source": [
    "print(\"gaga\")\n",
    "# from IPython.core.debugger import set_trace\n",
    "input_shape = (None, 3*4)\n",
    "# set_trace()\n",
    "gogo = input_shape\n",
    "gaga = gogo\n",
    "# set_trace()\n",
    "gigi = gaga\n",
    "# set_trace()\n",
    "final = gigi\n",
    "# set_trace()"
   ]
  },
  {
   "cell_type": "code",
   "execution_count": 14,
   "metadata": {},
   "outputs": [
    {
     "ename": "NameError",
     "evalue": "name 'InputLayer' is not defined",
     "output_type": "error",
     "traceback": [
      "\u001b[0;31m---------------------------------------------------------------------------\u001b[0m",
      "\u001b[0;31mNameError\u001b[0m                                 Traceback (most recent call last)",
      "\u001b[0;32m<ipython-input-14-25af062ee226>\u001b[0m in \u001b[0;36m<module>\u001b[0;34m()\u001b[0m\n\u001b[1;32m      1\u001b[0m \u001b[0minput_shape\u001b[0m \u001b[0;34m=\u001b[0m \u001b[0;34m(\u001b[0m\u001b[0mNone\u001b[0m\u001b[0;34m,\u001b[0m \u001b[0;36m3\u001b[0m\u001b[0;34m*\u001b[0m\u001b[0;36m4\u001b[0m\u001b[0;34m)\u001b[0m\u001b[0;34m\u001b[0m\u001b[0m\n\u001b[1;32m      2\u001b[0m \u001b[0mX\u001b[0m \u001b[0;34m=\u001b[0m \u001b[0mnp\u001b[0m\u001b[0;34m.\u001b[0m\u001b[0marray\u001b[0m\u001b[0;34m(\u001b[0m\u001b[0minput_shape\u001b[0m\u001b[0;34m)\u001b[0m\u001b[0;34m\u001b[0m\u001b[0m\n\u001b[0;32m----> 3\u001b[0;31m \u001b[0mlayers\u001b[0m \u001b[0;34m=\u001b[0m \u001b[0;34m[\u001b[0m\u001b[0mInputLayer\u001b[0m\u001b[0;34m(\u001b[0m\u001b[0minput_shape\u001b[0m\u001b[0;34m)\u001b[0m\u001b[0;34m]\u001b[0m\u001b[0;34m\u001b[0m\u001b[0m\n\u001b[0m\u001b[1;32m      4\u001b[0m \u001b[0mlayers\u001b[0m\u001b[0;34m\u001b[0m\u001b[0m\n",
      "\u001b[0;31mNameError\u001b[0m: name 'InputLayer' is not defined"
     ]
    }
   ],
   "source": [
    "input_shape = (None, 3*4)\n",
    "X = np.array(input_shape)\n",
    "layers = [InputLayer(input_shape)]\n",
    "layers"
   ]
  },
  {
   "cell_type": "code",
   "execution_count": 15,
   "metadata": {},
   "outputs": [
    {
     "data": {
      "text/plain": [
       "array([[ 1.,  0.,  0.],\n",
       "       [ 0.,  0.,  1.],\n",
       "       [ 0.,  1.,  0.]])"
      ]
     },
     "execution_count": 15,
     "metadata": {},
     "output_type": "execute_result"
    }
   ],
   "source": [
    "def one_hot(labels):\n",
    "    \"\"\"this creates a one hot encoding from a flat vector:\n",
    "    i.e. given y = [0,2,1]\n",
    "     it creates y_one_hot = [[1,0,0], [0,0,1], [0,1,0]]\n",
    "    \"\"\"\n",
    "    classes = np.unique(labels)   # how many different elements ([0,3,2,3,2] --> [0,2,3])\n",
    "    n_classes = classes.size\n",
    "    one_hot_labels = np.zeros(labels.shape + (n_classes,))  \n",
    "    for c in classes:  # walk through rows\n",
    "        one_hot_labels[labels == c, c] = 1     # \n",
    "    return one_hot_labels\n",
    "\n",
    "labels = np.array([0,2,1])\n",
    "one_hot(labels)"
   ]
  },
  {
   "cell_type": "code",
   "execution_count": 16,
   "metadata": {},
   "outputs": [
    {
     "name": "stdout",
     "output_type": "stream",
     "text": [
      "('classes', array([0, 1, 2]))\n",
      "('lagles.shape', (4,))\n",
      "('(n_classes)', (3,))\n"
     ]
    },
    {
     "data": {
      "text/plain": [
       "array([[ 0.,  0.,  0.,  0.],\n",
       "       [ 0.,  0.,  0.,  0.],\n",
       "       [ 0.,  0.,  0.,  0.]])"
      ]
     },
     "execution_count": 16,
     "metadata": {},
     "output_type": "execute_result"
    }
   ],
   "source": [
    "labels = np.array([0,2,1,2])\n",
    "classes = np.unique(labels)   # how many different elements ([0,3,2,3,2] --> 3)\n",
    "print(\"classes\",classes)\n",
    "n_classes = classes.size\n",
    "print(\"lagles.shape\", labels.shape)\n",
    "print(\"(n_classes)\", (n_classes,))\n",
    "# one_hot_labels = np.zeros(labels.shape + (n_classes,))  \n",
    "one_hot_labels = np.zeros((3,)+(4,)) \n",
    "#one_hot_labels = np.zeros(labels.shape)  \n",
    "# for c in classes:\n",
    "#    one_hot_labels[labels == c, c] = 1\n",
    "one_hot_labels"
   ]
  },
  {
   "cell_type": "code",
   "execution_count": 17,
   "metadata": {},
   "outputs": [
    {
     "name": "stdout",
     "output_type": "stream",
     "text": [
      "0\n",
      "1\n",
      "2\n"
     ]
    }
   ],
   "source": [
    "x = np.nan\n",
    "y = \"string\"\n",
    "# debug\n",
    "#pdb.set_trace()\n",
    "#gaga\n",
    "z = 9\n",
    "y\n",
    "\n",
    "a = np.array([1,2,3,4])\n",
    "y = np.sum(a)\n",
    "y\n",
    "\n",
    "for i in range(3):\n",
    "    print(i)\n"
   ]
  },
  {
   "cell_type": "code",
   "execution_count": 18,
   "metadata": {},
   "outputs": [
    {
     "ename": "ImportError",
     "evalue": "No module named tkinter",
     "output_type": "error",
     "traceback": [
      "\u001b[0;31m---------------------------------------------------------------------------\u001b[0m",
      "\u001b[0;31mImportError\u001b[0m                               Traceback (most recent call last)",
      "\u001b[0;32m<ipython-input-18-3359e46e3457>\u001b[0m in \u001b[0;36m<module>\u001b[0;34m()\u001b[0m\n\u001b[1;32m      2\u001b[0m \u001b[0;32mimport\u001b[0m \u001b[0mnumpy\u001b[0m \u001b[0;32mas\u001b[0m \u001b[0mnp\u001b[0m\u001b[0;34m\u001b[0m\u001b[0m\n\u001b[1;32m      3\u001b[0m \u001b[0;32mimport\u001b[0m \u001b[0mrandom\u001b[0m\u001b[0;34m\u001b[0m\u001b[0m\n\u001b[0;32m----> 4\u001b[0;31m \u001b[0;32mimport\u001b[0m \u001b[0mtkinter\u001b[0m \u001b[0;32mas\u001b[0m \u001b[0mtk\u001b[0m\u001b[0;34m\u001b[0m\u001b[0m\n\u001b[0m\u001b[1;32m      5\u001b[0m \u001b[0;32mfrom\u001b[0m \u001b[0mtkinter\u001b[0m \u001b[0;32mimport\u001b[0m \u001b[0;34m*\u001b[0m\u001b[0;34m\u001b[0m\u001b[0m\n\u001b[1;32m      6\u001b[0m \u001b[0;34m\u001b[0m\u001b[0m\n",
      "\u001b[0;31mImportError\u001b[0m: No module named tkinter"
     ]
    }
   ],
   "source": [
    "import matplotlib.pyplot as plt\n",
    "import numpy as np\n",
    "import random\n",
    "import tkinter as tk\n",
    "from tkinter import *\n",
    "\n",
    "\n",
    "xAxis = np.linspace(0, 50, 500)\n",
    "yAxis = np.linspace(0,50,500)\n",
    "\n",
    "startValue = 0      #Standartvalue = 0\n",
    "slope = 0           #standartvalue = 0\n",
    "maxYAxis = 100      #standartvalue = 100\n",
    "minYAxis = -100     #stansartvalue = -100\n",
    "maxSlope = 0.2     #standartvalue = 0.15\n",
    "minSlope = -0.2     #standartvalue = -0.2\n",
    "AddTakeSlope = 0.4  #standartvalue = 0.2\n",
    "\n",
    "\n",
    "#CreateCurve(startValue, slope, maxYAxis, minYAxis, maxSlope,minSlope, AddTakeSlope)\n",
    "for i in range(xAxis.__len__()):\n",
    "    slope += random.uniform(-0.2, 0.2)\n",
    "\n",
    "    if i == 0:\n",
    "        yAxis[0] = startValue\n",
    "    else:\n",
    "        if slope < minSlope or yAxis[i-1] < minYAxis:\n",
    "            slope += random.uniform(0, AddTakeSlope)\n",
    "        elif slope > maxSlope or yAxis [i-1] > maxYAxis:\n",
    "            slope += random.uniform(-AddTakeSlope, 0)\n",
    "        else:\n",
    "            slope += random.uniform(-AddTakeSlope, AddTakeSlope)\n",
    "\n",
    "        yAxis[i] = yAxis[i-1] + slope\n",
    "\n",
    "# plt.figure(figsize=(10,10))\n",
    "plt.ylim([-100, 100])\n",
    "plt.plot(xAxis, yAxis)\n",
    "plt.ylabel('Height')\n",
    "plt.xlabel('x')\n",
    "plt.show()\n",
    "\n",
    "def Window():\n",
    "    app = Tk()\n",
    "    app.title(\"CurveGEnerator Parameters\")\n",
    "\n",
    "    Label(app, text=\"startValue\").grid(row=0)\n",
    "    Label(app, text=\"Slope\").grid(row=1)\n",
    "    Label(app, text=\"maxYAxis\").grid(row=2)\n",
    "    Label(app, text=\"minYAxis\").grid(row=3)\n",
    "    Label(app, text=\"maxSlope\").grid(row=4)\n",
    "    Label(app, text=\"minSlope\").grid(row=5)\n",
    "    Label(app, text=\"AddTakeSlope\").grid(row=6)\n",
    "\n",
    "    StartValue = Entry(app)\n",
    "    Slope = Entry(app)\n",
    "    MaxYAxis = Entry(app)\n",
    "    MinYAxis = Entry(app)\n",
    "    MaxSlope = Entry(app)\n",
    "    MinSlope = Entry(app)\n",
    "    AddTakeSlope = Entry(app)\n",
    "    StartValue.grid(row=0, column=1)\n",
    "    Slope.grid(row=1, column=1)\n",
    "    MaxYAxis.grid(row=2, column=1)\n",
    "    MinYAxis.grid(row=3, column=1)\n",
    "    MaxSlope.grid(row=4, column=1)\n",
    "    MinSlope.grid(row=5, column=1)\n",
    "    AddTakeSlope.grid(row=6, column=1)\n",
    "\n",
    "    button = Button(app, text=\"Generate\",command= CreateCurve(StartValue, Slope, MaxYAxis, MinYAxis, MaxSlope,MinSlope, AddTakeSlope))\n",
    "    button.grid(row=7, column=1)\n",
    "    app.mainloop()"
   ]
  },
  {
   "cell_type": "code",
   "execution_count": 19,
   "metadata": {},
   "outputs": [
    {
     "name": "stdout",
     "output_type": "stream",
     "text": [
      "[[1]\n",
      " [1]]\n",
      "[[1 2]\n",
      " [3 4]]\n"
     ]
    },
    {
     "data": {
      "text/plain": [
       "array([[1, 2, 1],\n",
       "       [3, 4, 1]])"
      ]
     },
     "execution_count": 19,
     "metadata": {},
     "output_type": "execute_result"
    }
   ],
   "source": [
    "x = np.array([[1, 2],[3,4]])\n",
    "y = np.array([[1, 1]])\n",
    "print(y.T)\n",
    "print(x)\n",
    "#pdb.set_trace()\n",
    "np.append(x,y.T,axis=1)"
   ]
  },
  {
   "cell_type": "code",
   "execution_count": 20,
   "metadata": {},
   "outputs": [
    {
     "name": "stdout",
     "output_type": "stream",
     "text": [
      "0\n",
      "2\n",
      "4\n",
      "6\n",
      "8\n"
     ]
    }
   ],
   "source": [
    "#for i in range(np.array([1,2,3,4,5,6,7,8])):\n",
    "for i in range(10):\n",
    "    if i % 2 == 0:\n",
    "        print(i)"
   ]
  },
  {
   "cell_type": "code",
   "execution_count": 21,
   "metadata": {},
   "outputs": [],
   "source": [
    "# compare two array if identical / equal\n",
    "a = [1,2,3]\n",
    "b = [1,2,3]\n",
    "assert(np.array_equal(a,b))"
   ]
  },
  {
   "cell_type": "code",
   "execution_count": 22,
   "metadata": {},
   "outputs": [
    {
     "name": "stdout",
     "output_type": "stream",
     "text": [
      "tp [False  True False  True False  True  True] \n",
      "\n",
      "X_True [2 4 6 7] \n",
      "\n",
      "tp0  [False], tp6 [ True  True]\n",
      "X0  [ True], X1 [False]\n",
      "X0_tp  [], X0_fp [ True]\n"
     ]
    }
   ],
   "source": [
    "# Boolean indexing\n",
    "X =      np.array([1,2,3,4,5,6,7])\n",
    "y =      np.array([1,0,3,4,5,6,6])\n",
    "y_pred = np.array([2,0,4,4,6,6,6])\n",
    "tp = (y == y_pred)  # true positives\n",
    "# X_True = X[tp]\n",
    "X_True = X[y == y_pred]\n",
    "print(\"tp {} \\n\".format(tp))\n",
    "print(\"X_True {} \\n\".format(X_True))\n",
    "\n",
    "tp0, tp6 = tp[y == 1], tp[y == 6]\n",
    "print(\"tp0  {}, tp6 {}\".format(tp0,tp6))\n",
    "X0, X1 = tp[y == 0], tp[y == 1]\n",
    "print(\"X0  {}, X1 {}\".format(X0,X1))\n",
    "X0_tp, X0_fp = X0[tp0], X0[~tp0]\n",
    "#pdb.set_trace()\n",
    "print(\"X0_tp  {}, X0_fp {}\".format(X0_tp,X0_fp))"
   ]
  },
  {
   "cell_type": "code",
   "execution_count": 23,
   "metadata": {},
   "outputs": [
    {
     "data": {
      "text/plain": [
       "array([1, 2, 3])"
      ]
     },
     "execution_count": 23,
     "metadata": {},
     "output_type": "execute_result"
    }
   ],
   "source": [
    "# how many different classes \n",
    "np.unique([1, 1, 2, 2, 3, 3, 3, 3, 2])"
   ]
  },
  {
   "cell_type": "code",
   "execution_count": 24,
   "metadata": {},
   "outputs": [
    {
     "data": {
      "text/plain": [
       "5"
      ]
     },
     "execution_count": 24,
     "metadata": {},
     "output_type": "execute_result"
    }
   ],
   "source": [
    "a = np.array([1,2,3,4,5])\n",
    "a[-1] # index -1 means the last one"
   ]
  },
  {
   "cell_type": "code",
   "execution_count": 25,
   "metadata": {},
   "outputs": [
    {
     "name": "stdout",
     "output_type": "stream",
     "text": [
      "mean_x [ 5.  6.  7.  8.], mean_y [  2.5   6.5  10.5]\n"
     ]
    }
   ],
   "source": [
    "# calculating mean / average over matrix columns along defined axis\n",
    "arr = np.array([[1,2,3,4], [5,6,7,8], [9,10,11,12]])\n",
    "mean_x = np.mean(arr,axis=0)\n",
    "mean_y = np.mean(arr,axis=1)\n",
    "print(\"mean_x {}, mean_y {}\".format(mean_x,mean_y))"
   ]
  },
  {
   "cell_type": "code",
   "execution_count": 26,
   "metadata": {},
   "outputs": [
    {
     "data": {
      "text/plain": [
       "array([[ 1,  2,  3,  4],\n",
       "       [ 9, 10, 11, 12]])"
      ]
     },
     "execution_count": 26,
     "metadata": {},
     "output_type": "execute_result"
    }
   ],
   "source": [
    "# aus array Daten rausschneiden, z.B. gemäß Index-Array\n",
    "arr = np.array([[1,2,3,4], [5,6,7,8], [9,10,11,12], [9,10,11,13]])\n",
    "a = np.delete(arr, 1, 0)\n",
    "arr = np.array([[1,2,3,4], [5,6,7,8], [9,10,11,12], [9,10,11,13]])\n",
    "b = np.delete(arr, [1,3], 0)\n",
    "b"
   ]
  },
  {
   "cell_type": "code",
   "execution_count": 27,
   "metadata": {},
   "outputs": [
    {
     "name": "stdout",
     "output_type": "stream",
     "text": [
      "[2, 4, 5, 1, 6, 5]\n"
     ]
    }
   ],
   "source": [
    "# outlier detection and removal\n",
    "def reject_outliers(data):\n",
    "    m = 2\n",
    "    u = np.mean(data)\n",
    "    s = np.std(data)\n",
    "    filtered = [e for e in data if (u - 2 * s < e < u + 2 * s)]\n",
    "    return filtered\n",
    "\n",
    "d = [2,4,5,1,6,5,40]\n",
    "filtered_d = reject_outliers(d)\n",
    "print(filtered_d)"
   ]
  },
  {
   "cell_type": "code",
   "execution_count": 28,
   "metadata": {},
   "outputs": [
    {
     "name": "stdout",
     "output_type": "stream",
     "text": [
      "hadamard product:\n",
      "  [[ 2  4  6]\n",
      " [12 15 18]] \n",
      " skalar product 57 \n",
      "\n",
      "-3.5\n"
     ]
    }
   ],
   "source": [
    "# hadamard matrix product\n",
    "x = np.array([[1, 2, 3],[4,5,6]])\n",
    "y = np.array([[2, 2, 2],[3,3,3]])\n",
    "# z = np.multiply(y,x)\n",
    "z = y * x  # same as hadamard product\n",
    "\n",
    "# scalar product / dot product, as used for convolutions\n",
    "sp  = np.sum(z)\n",
    "\n",
    "print(\"hadamard product:\\n  {} \\n skalar product {} \\n\".format(z,sp))\n",
    "\n",
    "k = np.array([[1., 0.5, 2.],[-0.25,0.5,1.],[0.5,0.25,1.]])\n",
    "i = np.array([[1., 8., -16.],[4.,-4.,1.],[8.,-1.,4.]])\n",
    "z11 = np.multiply(k,i)\n",
    "\n",
    "k = np.array([[1., 0.5, 2.],[-0.25,0.5,1.],[0.5,0.25,1.]])\n",
    "k_flipped = np.rot90(k,2)\n",
    "\n",
    "k_flipped = np.array([[1., 0.25, 0.5],[1., 0.5, -0.25],[2., 0.5, 1.]])\n",
    "i = np.array([[0., 0., 0.],[0., 1., 8.],[0., 4.,-4.]])\n",
    "z00 = np.multiply(k_flipped,i)\n",
    "\n",
    "#pdb.set_trace()\n",
    "\n",
    "# scalar product / dot product, as used for convolutions\n",
    "print(np.sum(z00))\n"
   ]
  },
  {
   "cell_type": "code",
   "execution_count": 29,
   "metadata": {},
   "outputs": [
    {
     "data": {
      "text/plain": [
       "array([ -1.22464680e-16,  -7.81831482e-01,  -9.74927912e-01,\n",
       "        -4.33883739e-01,   4.33883739e-01,   9.74927912e-01,\n",
       "         7.81831482e-01,   1.22464680e-16])"
      ]
     },
     "execution_count": 29,
     "metadata": {},
     "output_type": "execute_result"
    }
   ],
   "source": [
    "# assigning values to np.array \n",
    "a = np.linspace(-1, 1, 8)\n",
    "X = np.zeros((4, 3))\n",
    "for i in range(X.shape[0]):\n",
    "    X[i][2] = 4\n",
    "#X[2][:] = 1 # geht komischerweise nicht\n",
    "y=np.zeros((8))\n",
    "y[:] = np.sin(np.pi*a)\n",
    "y"
   ]
  },
  {
   "cell_type": "code",
   "execution_count": 30,
   "metadata": {},
   "outputs": [
    {
     "data": {
      "text/plain": [
       "array([ 7, 10])"
      ]
     },
     "execution_count": 30,
     "metadata": {},
     "output_type": "execute_result"
    }
   ],
   "source": [
    "# dot product / scalar product\n",
    "x = np.array([[1, 2],[3,4]])\n",
    "y = np.array([[1, 1],[2,2]])\n",
    "\n",
    "a = np.dot(np.transpose(x),y)\n",
    "\n",
    "b = np.dot(np.transpose(x)[:,0], y[:,0])\n",
    "\n",
    "b = sum(np.multiply(x,y))\n",
    "b"
   ]
  },
  {
   "cell_type": "code",
   "execution_count": 31,
   "metadata": {},
   "outputs": [
    {
     "name": "stdout",
     "output_type": "stream",
     "text": [
      "[2 3 4 5]\n",
      "[1 3 4 5]\n",
      "[1 2 4 5]\n"
     ]
    }
   ],
   "source": [
    "# select from Array with mask\n",
    "X = np.array([1,2,3,4,5])\n",
    "for i in range(3):\n",
    "    mask = np.arange(len(X)) != i  # mask [ True False  True]\n",
    "    y = X[mask]\n",
    "    print(y)"
   ]
  },
  {
   "cell_type": "code",
   "execution_count": 32,
   "metadata": {},
   "outputs": [
    {
     "name": "stdout",
     "output_type": "stream",
     "text": [
      "('a_shape', (3, 2))\n",
      "('b_shape', (2, 4))\n",
      "c_shape = a dot b; (3, 2) dot (2, 4) = (3, 4)\n",
      "('d3_shape', (4, 3, 2))\n",
      "('d3[1][1][1]', 3)\n",
      "('d3[1,1,1]', 3)\n",
      "('e_shape', (2, 3))\n",
      "f_shape= d3 dot e; (4, 3, 2) dot (2, 3) = (4, 3, 3)\n",
      "('g_shape', (3, 2))\n",
      "h_shape= e dot d3; (2, 3) dot (4, 3, 2) = (2, 4, 2)\n"
     ]
    }
   ],
   "source": [
    "# dot product for high dim arrays\n",
    "# For 2-D arrays it is equivalent to matrix multiplication, and for 1-D arrays to inner product of vectors\n",
    "# For N dimensions it is a sum product over the last axis of a and the second-to-last of b:\n",
    "# the latter is the extrapolation of the 2-dim case\n",
    "# das letzte Element vom erste und das zweitletzte element vom zweiten Faktor \"verschwinden\" (via aufsummiert), der Rest bleibt\n",
    "a = np.array([[1,2],[3,4],[3,4]])\n",
    "print(\"a_shape\",a.shape)\n",
    "b = np.array([[1,2,3,4],[3,4,5,4]])\n",
    "print(\"b_shape\",b.shape)\n",
    "c = a.dot(b)\n",
    "print(\"c_shape = a dot b; {} dot {} = {}\".format(a.shape,b.shape, c.shape))\n",
    "\n",
    "d3 = np.array([[[1,2],[3,4],[3,4]],\n",
    "              [[2,3],[1,3],[3,4]],\n",
    "              [[2,3],[1,3],[3,4]],\n",
    "              [[3,5],[3,5],[3,4]]])\n",
    "print(\"d3_shape\",d3.shape)\n",
    "print(\"d3[1][1][1]\",d3[1][1][1])\n",
    "print(\"d3[1,1,1]\",d3[1,1,1])\n",
    "\n",
    "e = np.array([[1,2,3],[3,4,5]])\n",
    "print(\"e_shape\",e.shape)\n",
    "f = d3.dot(e)\n",
    "print(\"f_shape= d3 dot e; {} dot {} = {}\".format(d3.shape,e.shape, f.shape))\n",
    "\n",
    "g = np.array([[1,2],[3,4],[1,2]])\n",
    "print(\"g_shape\",g.shape)\n",
    "h = e.dot(d3)\n",
    "print(\"h_shape= e dot d3; {} dot {} = {}\".format(e.shape,d3.shape, h.shape))"
   ]
  },
  {
   "cell_type": "code",
   "execution_count": 34,
   "metadata": {},
   "outputs": [
    {
     "name": "stdout",
     "output_type": "stream",
     "text": [
      "('xx.shape', (5, 5))\n",
      "('xx', array([[0, 1, 2, 3, 4],\n",
      "       [0, 1, 2, 3, 4],\n",
      "       [0, 1, 2, 3, 4],\n",
      "       [0, 1, 2, 3, 4],\n",
      "       [0, 1, 2, 3, 4]]))\n",
      "('yy', array([[5, 5, 5, 5, 5],\n",
      "       [6, 6, 6, 6, 6],\n",
      "       [7, 7, 7, 7, 7],\n",
      "       [8, 8, 8, 8, 8],\n",
      "       [9, 9, 9, 9, 9]]))\n"
     ]
    },
    {
     "data": {
      "text/plain": [
       "[<matplotlib.lines.Line2D at 0x7f10b1781d50>,\n",
       " <matplotlib.lines.Line2D at 0x7f10b1781dd0>,\n",
       " <matplotlib.lines.Line2D at 0x7f10b1781e90>,\n",
       " <matplotlib.lines.Line2D at 0x7f10b1781f50>,\n",
       " <matplotlib.lines.Line2D at 0x7f10b178e050>]"
      ]
     },
     "execution_count": 34,
     "metadata": {},
     "output_type": "execute_result"
    },
    {
     "data": {
      "image/png": "[encoded data removed]",
      "text/plain": [
       "<matplotlib.figure.Figure at 0x7f10b393fb90>"
      ]
     },
     "metadata": {},
     "output_type": "display_data"
    }
   ],
   "source": [
    "# meshgrid https://stackoverflow.com/questions/36013063/what-is-purpose-of-meshgrid-in-python\n",
    "xvalues = np.array([0, 1, 2, 3, 4])\n",
    "yvalues = np.array([5, 6, 7, 8, 9])\n",
    "# create grid of 5x5 points in 2.dim space, every combination of the x and y values\n",
    "xx, yy = np.meshgrid(xvalues, yvalues)\n",
    "print(\"xx.shape\",xx.shape)\n",
    "print(\"xx\",xx)\n",
    "print(\"yy\",yy)\n",
    "plt.plot(xx, yy, marker='.', color='k', linestyle='none')\n",
    "# xvalues = np.array([0, 1, 2])\n",
    "# yvalues = np.array([3, 4, 5])\n",
    "# zvalues = np.array([5, 6, 7])\n",
    "# xxx, yyy, zzz = np.meshgrid(xvalues, yvalues, zvalues)\n",
    "# print(\"xxx.shape\",xxx.shape)\n",
    "# print(\"xxx\",xxx)"
   ]
  },
  {
   "cell_type": "code",
   "execution_count": 6,
   "metadata": {},
   "outputs": [],
   "source": [
    "yvalues = np.array([5, 6, 7, 8, 9])\n",
    "from numpy import c_\n",
    "\n",
    "#c_?"
   ]
  },
  {
   "cell_type": "code",
   "execution_count": 7,
   "metadata": {},
   "outputs": [
    {
     "name": "stdout",
     "output_type": "stream",
     "text": [
      "('a_shape', (3, 2))\n",
      "('c_shape', (3, 2))\n",
      "('c \\n', array([[0, 1],\n",
      "       [2, 3],\n",
      "       [2, 3]]))\n",
      "('b2_shape', (2,))\n",
      "('c = a - b2', (3, 2))\n",
      "('c \\n', array([[0, 0],\n",
      "       [2, 2],\n",
      "       [2, 2]]))\n"
     ]
    }
   ],
   "source": [
    "# broadcasting\n",
    "# https://docs.scipy.org/doc/numpy/user/basics.broadcasting.html\n",
    "a = np.array([[1,2],[3,4],[3,4]])\n",
    "print(\"a_shape\",a.shape)\n",
    "b1 = 1\n",
    "c = a - b1\n",
    "#print(\"c = a - b1 c= {}; a= {}; b1 = {}\".format(c.shape, a.shape, b.shape))\n",
    "print(\"c_shape\",c.shape)\n",
    "print(\"c \\n\", c)\n",
    "\n",
    "b2 = np.array([1,2])\n",
    "print(\"b2_shape\",b2.shape)\n",
    "c = a - b2\n",
    "print(\"c = a - b2\",c.shape)\n",
    "print(\"c \\n\", c)"
   ]
  },
  {
   "cell_type": "code",
   "execution_count": 8,
   "metadata": {},
   "outputs": [
    {
     "name": "stdout",
     "output_type": "stream",
     "text": [
      "('d3_shape', (4, 1, 2))\n",
      "('d3', array([[[1, 2]],\n",
      "\n",
      "       [[2, 3]],\n",
      "\n",
      "       [[2, 3]],\n",
      "\n",
      "       [[2, 3]]]))\n",
      "('d2_shape', (4, 1))\n",
      "('delta_shape', (4, 4, 2))\n",
      "('delta \\n', array([[[2, 3],\n",
      "        [3, 4],\n",
      "        [4, 5],\n",
      "        [5, 6]],\n",
      "\n",
      "       [[3, 4],\n",
      "        [4, 5],\n",
      "        [5, 6],\n",
      "        [6, 7]],\n",
      "\n",
      "       [[3, 4],\n",
      "        [4, 5],\n",
      "        [5, 6],\n",
      "        [6, 7]],\n",
      "\n",
      "       [[3, 4],\n",
      "        [4, 5],\n",
      "        [5, 6],\n",
      "        [6, 7]]]))\n"
     ]
    }
   ],
   "source": [
    "# https://docs.scipy.org/doc/numpy/user/basics.broadcasting.html\n",
    "# When operating on two arrays, NumPy compares their shapes element-wise. It starts with the trailing dimensions (von hinten), \n",
    "# and works its way forward. Two dimensions are compatible when entweder gleichgroß, oder eine 1, dann wird sie aufgeblasen\n",
    "# see also: http://scipy.github.io/old-wiki/pages/EricsBroadcastingDoc\n",
    "d3 = np.array([[[1,2]],\n",
    "              [[2,3]],\n",
    "              [[2,3]],\n",
    "              [[2,3]]])\n",
    "print(\"d3_shape\",d3.shape)\n",
    "print(\"d3\",d3)\n",
    "d2 = np.array([[1],[2],[3],[4]])\n",
    "print(\"d2_shape\",d2.shape)\n",
    "delta = d3 + d2\n",
    "print(\"delta_shape\",delta.shape)\n",
    "print(\"delta \\n\",delta)"
   ]
  },
  {
   "cell_type": "code",
   "execution_count": 14,
   "metadata": {},
   "outputs": [],
   "source": [
    "start = time.time()\n",
    "#do something\n",
    "epoch_time = time.time() - start"
   ]
  },
  {
   "cell_type": "code",
   "execution_count": 15,
   "metadata": {},
   "outputs": [
    {
     "name": "stdout",
     "output_type": "stream",
     "text": [
      "[(1, 4), (2, 5), (3, 6)]\n"
     ]
    }
   ],
   "source": [
    "# zip Make an iterator that aggregates elements from each of the iterables.\n",
    "# stops after exhausting the shortest of the arrays\n",
    "x = [1, 2, 3]\n",
    "y = [4, 5, 6, 7]\n",
    "zipped = zip(x, y)\n",
    "# The method list() takes sequence types and converts them to lists. This is used to convert a given tuple into list.\n",
    "a = list(zipped)\n",
    "print(a)\n",
    "\n",
    "#print(list(zipped))\n",
    "#x2, y2 = zip(*zipped)\n",
    "#x == list(x2) and y == list(y2)\n",
    "#for i in enumerate(zipped):\n",
    "#    print(\"next: \",i)\n",
    "#    print(list(zipped)[i])\n",
    "    \n"
   ]
  },
  {
   "cell_type": "code",
   "execution_count": 13,
   "metadata": {},
   "outputs": [
    {
     "name": "stdout",
     "output_type": "stream",
     "text": [
      "('X_g \\n', array([[3, 4],\n",
      "       [3, 5]]))\n",
      "('a', (array([1, 4]),))\n"
     ]
    }
   ],
   "source": [
    "# conditioned slicing of list\n",
    "X = np.array([[1,2],[3,4],[2,3],[1,3],[3,5]])\n",
    "y = np.array([1,2,4,3,2])\n",
    "X_g = X[y == 2, :]\n",
    "print (\"X_g \\n\", X_g)\n",
    "a = np.where(y == 2)\n",
    "print (\"a\", a)"
   ]
  },
  {
   "cell_type": "code",
   "execution_count": 17,
   "metadata": {},
   "outputs": [
    {
     "data": {
      "text/plain": [
       "[array([[1, 2, 3],\n",
       "        [4, 5, 6]]), array([[9, 9, 9],\n",
       "        [9, 9, 9]])]"
      ]
     },
     "execution_count": 17,
     "metadata": {},
     "output_type": "execute_result"
    }
   ],
   "source": [
    "# [:] causes effect on underlying variable y, otherwise only copy with new value, and underlying unchanged\n",
    "def update(z):\n",
    "    z[1] = z[1]+1\n",
    "\n",
    "def update_underlying(z):\n",
    "    z[1][:] = z[1]+1\n",
    "    \n",
    "x = np.array([[1, 2, 3],[4,5,6]])\n",
    "y = np.array([[8, 8, 8],[8,8,8]])\n",
    "z = [x,y]\n",
    "update(z)\n",
    "#update_underlying(z)\n",
    "\n",
    "z"
   ]
  },
  {
   "cell_type": "code",
   "execution_count": 18,
   "metadata": {},
   "outputs": [
    {
     "name": "stdout",
     "output_type": "stream",
     "text": [
      "[ 1.1  2.2  1.3]\n",
      "[2 1 4]\n",
      "(array([0, 2, 3, 4, 6]),)\n",
      "[0 2 3 4 6]\n",
      "x \n",
      " [[1 0 0]\n",
      " [0 2 0]\n",
      " [1 1 0]]\n",
      "np.nonzero(x) \n",
      " (array([0, 1, 2, 2]), array([0, 1, 0, 1]))\n"
     ]
    }
   ],
   "source": [
    "xind = np.array([1.1, 1.2, 1.3])\n",
    "yind = np.array([2.1, 2.2, 2.3])\n",
    "\n",
    "cond = np.array([True, False, True])\n",
    "\n",
    "result = np.where(cond,xind,yind)\n",
    "print(result)\n",
    "\n",
    "xind = np.array([1, 1, 1])\n",
    "yind = np.array([2, 3, 4])\n",
    "\n",
    "cond = np.array([True, False, True])\n",
    "\n",
    "result = np.where(cond,yind,xind)\n",
    "print(result)\n",
    "\n",
    "cond = np.array([True, False, True, True, True, False, True])\n",
    "\n",
    "#wenn nur ein Parameter, dann die Liste der Indices, wo \"True\" ist\n",
    "#If only condition is given, return the tuple condition.nonzero(), the indices where condition is True. \n",
    "#Zweiter Eintrag im Tupel id.d.R. leer, deshalb mit [0] den ersten auswählen\n",
    "#deshalb für den Array\n",
    "result = np.where(cond)\n",
    "print(result)\n",
    "result = np.where(cond)[0]\n",
    "print(result)\n",
    "\n",
    "#https://stackoverflow.com/questions/7924033/understanding-numpys-nonzero-function?rq=1\n",
    "x = np.array([[1,0,0], [0,2,0], [1,1,0]])\n",
    "print(\"x \\n\",x)\n",
    "y=np.nonzero(x)\n",
    "print(\"np.nonzero(x) \\n\",y)"
   ]
  },
  {
   "cell_type": "code",
   "execution_count": 19,
   "metadata": {},
   "outputs": [
    {
     "data": {
      "text/plain": [
       "[array([[1]]), array([[1, 2]]), array([[1, 2]])]"
      ]
     },
     "execution_count": 19,
     "metadata": {},
     "output_type": "execute_result"
    }
   ],
   "source": [
    "np.atleast_1d(1, [3, 4])\n",
    "\n",
    "np.atleast_2d(1, [1, 2], [[1, 2]])\n"
   ]
  },
  {
   "cell_type": "code",
   "execution_count": 20,
   "metadata": {},
   "outputs": [
    {
     "data": {
      "text/plain": [
       "array([[0, 0],\n",
       "       [0, 0],\n",
       "       [0, 0],\n",
       "       [0, 0]])"
      ]
     },
     "execution_count": 20,
     "metadata": {},
     "output_type": "execute_result"
    }
   ],
   "source": [
    "X=np.array([[1,2],[3,4],[5,6],[7,8]])\n",
    "np.zeros_like(X)"
   ]
  },
  {
   "cell_type": "code",
   "execution_count": 11,
   "metadata": {},
   "outputs": [
    {
     "data": {
      "text/plain": [
       "array([ 0,  1,  4,  9, 16])"
      ]
     },
     "execution_count": 11,
     "metadata": {},
     "output_type": "execute_result"
    }
   ],
   "source": [
    "# fill an array with loop statement\n",
    "x = np.array([i**2 for i in range(5)])\n",
    "y = np.array([np.random.uniform(0.1, 0.9, size=(2, 1)) * (-1)**i for i in range(3)])\n",
    "x"
   ]
  },
  {
   "cell_type": "code",
   "execution_count": 5,
   "metadata": {},
   "outputs": [
    {
     "data": {
      "text/plain": [
       "array([[-0.62740489],\n",
       "       [-0.1111997 ],\n",
       "       [-0.4117577 ],\n",
       "       [-0.81585192],\n",
       "       [-0.96817225]])"
      ]
     },
     "execution_count": 5,
     "metadata": {},
     "output_type": "execute_result"
    }
   ],
   "source": [
    "#If positive, int_like or int-convertible arguments are provided, randn generates an array \n",
    "# of shape (d0, d1, ..., dn), filled with random floats sampled from a univariate “normal” (Gaussian) distribution \n",
    "# of mean 0 and variance 1\n",
    "a = np.random.randn(5,2)\n",
    "b = np.random.uniform(-1, 1, size=(5,1))  # uniform distribution between -1 and 1\n",
    "b"
   ]
  },
  {
   "cell_type": "code",
   "execution_count": 22,
   "metadata": {},
   "outputs": [
    {
     "name": "stdout",
     "output_type": "stream",
     "text": [
      "X \n",
      " [[ 0.80802625]\n",
      " [-0.45991303]\n",
      " [-0.17598823]\n",
      " [ 1.71017422]]\n",
      "X_stacked \n",
      " [[ 1.          0.80802625]\n",
      " [ 1.         -0.45991303]\n",
      " [ 1.         -0.17598823]\n",
      " [ 1.          1.71017422]]\n",
      "len(X_stacked) 4\n",
      "X_stacked.shape (4, 2)\n",
      "X_stacked.shape 0,1:    4 2\n"
     ]
    }
   ],
   "source": [
    "X = np.random.randn(4,1)\n",
    "print(\"X \\n\", X)\n",
    "nrow = len(X)\n",
    "#column_stack klebt vorne eine neue Spalte dran\n",
    "X_stacked= np.column_stack((np.ones(nrow),X))\n",
    "print(\"X_stacked \\n\", X_stacked)\n",
    "print(\"len(X_stacked)\", len(X_stacked))\n",
    "print(\"X_stacked.shape\", X_stacked.shape)\n",
    "print(\"X_stacked.shape 0,1:   \", X_stacked.shape[0], X_stacked.shape[1])\n",
    "#Stack 1-D arrays as columns into a 2-D array."
   ]
  },
  {
   "cell_type": "code",
   "execution_count": 26,
   "metadata": {},
   "outputs": [
    {
     "name": "stdout",
     "output_type": "stream",
     "text": [
      "X \n",
      " [[1 2]\n",
      " [3 4]\n",
      " [5 6]\n",
      " [7 8]]\n",
      "X[:,0] \n",
      " [1 3 5 7]\n",
      "X[:,1] \n",
      " [2 4 6 8]\n",
      "X[0,:] \n",
      " [1 2]\n",
      "X[3,:] \n",
      " [7 8]\n",
      "X[2,:] \n",
      " [5 6]\n",
      "X[:2,:] \n",
      " [[1 2]\n",
      " [3 4]]\n",
      "X[1:,:] \n",
      " [[3 4]\n",
      " [5 6]\n",
      " [7 8]]\n",
      "X[0:2,:] \n",
      " [[3 4]\n",
      " [5 6]]\n"
     ]
    }
   ],
   "source": [
    "X=np.array([[1,2],[3,4],[5,6],[7,8]])\n",
    "XT=X.T\n",
    "print(\"X \\n\", X)\n",
    "print(\"X[:,0] \\n\",X[:,0]) #von der ersten Dimension (=zeilen) alle, von der zweiten die 0-te (=erste)\n",
    "print(\"X[:,1] \\n\",X[:,1]) #von der ersten Dimension (=zeilen) alle, von der zweiten die 1-te (=zweite)\n",
    "print(\"X[0,:] \\n\",X[0,:]) #von der zweiten Dimension (=Spalten) alle, von der ersten die 0-te (=erste)\n",
    "print(\"X[3,:] \\n\",X[3,:])\n",
    "print(\"X[2,:] \\n\",X[2,:]) #von der zweiten Dimension (=Spalten) alle, von der ersten die 2-te (=dritte)\n",
    "print(\"X[:2,:] \\n\",X[:2,:]) #von der zweiten Dimension (=Spalten) alle, von der ersten alle bis zur zweiten (dritten)\n",
    "print(\"X[1:,:] \\n\",X[1:,:]) #von der zweiten Dimension (=Spalten) alle, von der ersten alle ab der ersten (zweiten)\n",
    "print(\"X[0:2,:] \\n\",X[1:3,:]) #von der zweiten Dimension alle von der ersten bis zur dritten, von der zweiten alles"
   ]
  },
  {
   "cell_type": "code",
   "execution_count": 9,
   "metadata": {},
   "outputs": [
    {
     "data": {
      "image/png": "[encoded data removed]",
      "text/plain": [
       "<matplotlib.figure.Figure at 0x7fc532e32450>"
      ]
     },
     "metadata": {},
     "output_type": "display_data"
    }
   ],
   "source": [
    "#generate array of numbers between 0 and 5, with steps 0.1\n",
    "x = np.arange(0, 5, 0.1);\n",
    "y = np.sin(x)\n",
    "plt.plot(x, y)\n",
    "plt.plot([-2,2],[-2,2])\n",
    "\n",
    "#w_est = [intercept, slope]\n",
    "#print(np.dot([[1, -5], [1, 5]],w_est))\n",
    "#Matrix [[1, -5], [1, 5]] bildet Basisvektoren [1,0] (weight = 1, slope = 0) und [0,1) gerade richtig ab: \n",
    "# [1,1], bzw.[-5,5]\n",
    "w_est = [0.5,1.3]\n",
    "plt.plot([-5,5],np.dot([[1, -5], [1, 5]],w_est),c='red');\n",
    "#generell: plotte von-5  bis 5 mit intercept und Steigung"
   ]
  },
  {
   "cell_type": "code",
   "execution_count": 25,
   "metadata": {},
   "outputs": [
    {
     "name": "stdout",
     "output_type": "stream",
     "text": [
      "x \n",
      " [[[0]\n",
      "  [1]\n",
      "  [2]]]\n",
      "x.shape (1, 3, 1)\n",
      "np.squeeze(x) \n",
      " [0 1 2]\n",
      "np.squeeze(x).shape (3,)\n",
      "np.squeeze(x, axis=(0,)) \n",
      " [[0]\n",
      " [1]\n",
      " [2]]\n",
      "np.squeeze(x, axis=(0,)).shape (3, 1)\n",
      "np.squeeze(x, axis=(2,)) \n",
      " [[0 1 2]]\n",
      "shape axis = 2 (1, 3)\n"
     ]
    }
   ],
   "source": [
    "#x = np.array([[0,1], [1,3], [2,5]])\n",
    "#x.shape\n",
    "# squeeze out Axis that are only one, all of them, or selected ones. Error, if try to squeeze out Axis with more than one entry\n",
    "x = np.array([[[0], [1], [2]]])\n",
    "x.shape\n",
    "print(\"x \\n\", x)\n",
    "print(\"x.shape\", x.shape)\n",
    "print(\"np.squeeze(x) \\n\", np.squeeze(x))\n",
    "print(\"np.squeeze(x).shape\", np.squeeze(x).shape)\n",
    "print(\"np.squeeze(x, axis=(0,)) \\n\", np.squeeze(x, axis=(0,)))\n",
    "print(\"np.squeeze(x, axis=(0,)).shape\", np.squeeze(x, axis=(0,)).shape)\n",
    "#print(\"np.squeeze(x, axis=(1,)) \\n\", np.squeeze(x, axis=(1,)))\n",
    "#print(\"shape axis = 1\", np.squeeze(x, axis=(1,)).shape)\n",
    "print(\"np.squeeze(x, axis=(2,)) \\n\", np.squeeze(x, axis=(2,)))\n",
    "print(\"shape axis = 2\", np.squeeze(x, axis=(2,)).shape)\n",
    "\n",
    "#np.squeeze(x).shape\n",
    "\n",
    "#np.squeeze(x, axis=(2,)).shape"
   ]
  },
  {
   "cell_type": "code",
   "execution_count": 26,
   "metadata": {},
   "outputs": [
    {
     "name": "stdout",
     "output_type": "stream",
     "text": [
      "x: \n",
      " [1 2 3 4 5 6 7]\n",
      "x: \n",
      " [[1 3 4 4 1]\n",
      " [2 6 8 8 2]]\n",
      "np.cov(x): \n",
      " [[ 2.3  4.6]\n",
      " [ 4.6  9.2]]\n",
      "x: \n",
      " [[0 1 2 3 4]\n",
      " [4 3 2 1 0]]\n",
      "np.cov(x): \n",
      " [[ 2.5 -2.5]\n",
      " [-2.5  2.5]]\n",
      "np.cov(X): \n",
      " [[ 11.71        -4.286     ]\n",
      " [ -4.286        2.14413333]]\n",
      "np.cov(X,y): \n",
      " [[ 11.71        -4.286     ]\n",
      " [ -4.286        2.14413333]]\n",
      "np.cov(x): \n",
      " 11.709999999999999\n"
     ]
    }
   ],
   "source": [
    "#1-dim\n",
    "x = np.array([1,2,3,4,5,6,7])\n",
    "print(\"x: \\n\",x)\n",
    "#print(\"np.cov(x): \\n\",np.cov(x))\n",
    "#print(\"np.cov(x,x): \\n\",np.cov(x,x))\n",
    "\n",
    "#xt = np.array([1,2,3,4,5,6,7]).T\n",
    "#print(\"xt: \\n\",xt)\n",
    "#print(\"np.cov(x): \\n\",np.cov(xt))\n",
    "\n",
    "#positive correlation\n",
    "x = np.array([[1, 2], [3, 6], [4, 8], [4, 8], [1, 2]]).T\n",
    "print(\"x: \\n\",x)\n",
    "print(\"np.cov(x): \\n\",np.cov(x))\n",
    "\n",
    "#Consider two variables, x_0 and x_1, which correlate perfectly, but in opposite directions:\n",
    "x = np.array([[0, 4], [1, 3], [2, 2], [3, 1], [4, 0]]).T\n",
    "print(\"x: \\n\",x)\n",
    "print(\"np.cov(x): \\n\",np.cov(x))\n",
    "\n",
    "x = [-2.1, -1,  4.3]\n",
    "y = [3,  1.1,  0.12]\n",
    "X = np.vstack((x,y))\n",
    "print(\"np.cov(X): \\n\", np.cov(X))\n",
    "print(\"np.cov(X,y): \\n\", np.cov(x, y))\n",
    "print(\"np.cov(x): \\n\", np.cov(x))\n"
   ]
  },
  {
   "cell_type": "code",
   "execution_count": 27,
   "metadata": {},
   "outputs": [
    {
     "name": "stdout",
     "output_type": "stream",
     "text": [
      "0 navy Davide\n",
      "1 turquoise Luca\n",
      "2 darkorange Patrizia\n"
     ]
    }
   ],
   "source": [
    "target_names = [\"Davide\", \"Luca\", \"Patrizia\"]\n",
    "colors = ['navy', 'turquoise', 'darkorange']\n",
    "lw = 2\n",
    "\n",
    "#laufe durch alle colors, indices, target_names, \n",
    "for color, i, target_name in zip(colors, [0, 1, 2], target_names):\n",
    "    #plt.scatter(X_r[y == i, 0], X_r[y == i, 1], color=color, alpha=.8, lw=lw,\n",
    "                #label=target_name)\n",
    "    print(i,color,target_name)\n"
   ]
  },
  {
   "cell_type": "code",
   "execution_count": 28,
   "metadata": {},
   "outputs": [
    {
     "name": "stdout",
     "output_type": "stream",
     "text": [
      "np.argsort(x) : [0 2 1]\n",
      "x_ord : [3 2 1]\n",
      "y_2d_ord\n",
      " [[3 1]\n",
      " [2 1]\n",
      " [1 1]]\n",
      "y_2d_ord [:,index]\n",
      " [[3 0 1]\n",
      " [1 0 1]\n",
      " [2 0 1]]\n",
      "np.argsort(x) : [1 0 2 4 3]\n",
      "sorted_array : [7 5 3 2 1]\n",
      "np.argsort(x) : [1 2 0]\n"
     ]
    }
   ],
   "source": [
    "#Returns the indices that would sort an array.\n",
    "x = np.array([3, 1, 2])\n",
    "index = np.argsort(x)[::-1]  #rückwärts, \n",
    "print(\"np.argsort(x) :\", index)\n",
    "x_ord = x[index]\n",
    "print(\"x_ord :\", x_ord)\n",
    "\n",
    "y_2d = np.array([[3, 1],[1,1],[2,1]])\n",
    "y_2d_ord = y_2d[index]\n",
    "print(\"y_2d_ord\\n\", y_2d_ord)\n",
    "\n",
    "y_2d = np.array([[3, 1,0],[1,1,0],[2,1,0]])\n",
    "y_2d_ord = y_2d[:,index]   # umsortierung in Spalten, nicht Zeilen\n",
    "print(\"y_2d_ord [:,index]\\n\", y_2d_ord)\n",
    "\n",
    "#print(\"sorted_2d_array :\", y_2d[:,index])\n",
    "\n",
    "x1 = np.array([5, 7, 3, 1, 2])\n",
    "index = np.argsort(x1)[::-1]\n",
    "print(\"np.argsort(x) :\", index)\n",
    "sorted_array = x1[index]\n",
    "print(\"sorted_array :\", sorted_array)\n",
    "\n",
    "print(\"np.argsort(x) :\", np.argsort(x))\n"
   ]
  },
  {
   "cell_type": "code",
   "execution_count": 29,
   "metadata": {},
   "outputs": [
    {
     "name": "stdout",
     "output_type": "stream",
     "text": [
      "[9 8 7 6 5 4 3 2 1 0]\n",
      "[0 2 4 6 8]\n"
     ]
    }
   ],
   "source": [
    "#extended slices https://docs.python.org/2.3/whatsnew/section-slices.html\n",
    "L = np.arange(10)\n",
    "print(L[::-1])  # -1 --> rückwärts\n",
    "print(L[::2])"
   ]
  },
  {
   "cell_type": "code",
   "execution_count": 30,
   "metadata": {},
   "outputs": [
    {
     "data": {
      "text/plain": [
       "array([ 1,  3,  6, 10, 15, 21])"
      ]
     },
     "execution_count": 30,
     "metadata": {},
     "output_type": "execute_result"
    }
   ],
   "source": [
    "# cumulated sum\n",
    "a = np.array([[1,2,3], [4,5,6]])\n",
    "\n",
    "\n",
    "np.cumsum(a)"
   ]
  },
  {
   "cell_type": "code",
   "execution_count": 31,
   "metadata": {},
   "outputs": [
    {
     "name": "stdout",
     "output_type": "stream",
     "text": [
      "accuracy 60.0 percent\n"
     ]
    }
   ],
   "source": [
    "accuracy = float(sum(np.array([1,2,3,4,5])==np.array([1,2,3,2,1]))/len([1,2,3,2,1])*100)\n",
    "\n",
    "print(\"accuracy {} percent\".format(accuracy))"
   ]
  },
  {
   "cell_type": "code",
   "execution_count": 32,
   "metadata": {},
   "outputs": [
    {
     "name": "stdout",
     "output_type": "stream",
     "text": [
      "a \n",
      " [[0 1 2]\n",
      " [3 4 5]]\n",
      "np.argmax(a)  5\n",
      "np.argmax(a, axis=0)  [1 1 1]\n",
      "np.argmax(a, axis=1)  [2 2]\n",
      "a [[0 1]\n",
      " [2 3]\n",
      " [4 5]]\n",
      "b [[0 1 2]\n",
      " [3 4 5]]\n"
     ]
    }
   ],
   "source": [
    "a = np.arange(6).reshape(2,3)  # Gives a new shape to an array without changing its data.\n",
    "print(\"a \\n\",a)\n",
    "\n",
    "# argmax Returns the INDECES (not values) of the maximum values along an axis.\n",
    "print (\"np.argmax(a) \",np.argmax(a))\n",
    "\n",
    "print(\"np.argmax(a, axis=0) \",np.argmax(a, axis=0))\n",
    "\n",
    "print(\"np.argmax(a, axis=1) \",np.argmax(a, axis=1))  #von links nach rechts 0,1,2 gezählt\n",
    "\n",
    "# One shape dimension can be -1. In this case, the value is inferred from the length of the array and remaining dimensions.\n",
    "a = np.arange(6).reshape(-1,2)\n",
    "print(\"a\",a)\n",
    "b = np.arange(6).reshape(2,-1)\n",
    "print(\"b\",b)"
   ]
  },
  {
   "cell_type": "code",
   "execution_count": 33,
   "metadata": {},
   "outputs": [
    {
     "data": {
      "text/plain": [
       "array([  1,   1, -10])"
      ]
     },
     "execution_count": 33,
     "metadata": {},
     "output_type": "execute_result"
    }
   ],
   "source": [
    "#Calculate the n-th order discrete difference along given axis.\n",
    "x = np.array([1, 2, 4, 7, 0])\n",
    "np.diff(x)\n",
    "#second order: apply it iteratively on the result of the first application\n",
    "np.diff(x, n=2)"
   ]
  },
  {
   "cell_type": "code",
   "execution_count": 34,
   "metadata": {},
   "outputs": [
    {
     "name": "stdout",
     "output_type": "stream",
     "text": [
      "[0 1]\n",
      "[2 3]\n",
      "[4 5]\n",
      "[6 7]\n",
      "[8 9]\n"
     ]
    }
   ],
   "source": [
    "# slicing data set\n",
    "mini = 2\n",
    "X_train = np.arange(10)\n",
    "loops = X_train.shape[0] // mini\n",
    "for j in range(loops):\n",
    "    X_train_mini = X_train[j*mini:(j+1)*mini]\n",
    "    print(X_train_mini)\n",
    "    "
   ]
  },
  {
   "cell_type": "code",
   "execution_count": 35,
   "metadata": {},
   "outputs": [
    {
     "name": "stdout",
     "output_type": "stream",
     "text": [
      "w  [ 2.73205081 -0.73205081]\n",
      "v  [[ 0.70710678 -0.70710678]\n",
      " [ 0.70710678  0.70710678]]\n",
      "w [ 1.  2.  3.],\n",
      "v [[ 1.  0.  0.]\n",
      " [ 0.  1.  0.]\n",
      " [ 0.  0.  1.]]\n"
     ]
    },
    {
     "data": {
      "text/plain": [
       "array([[1, 0, 0],\n",
       "       [0, 2, 0],\n",
       "       [0, 0, 3]])"
      ]
     },
     "execution_count": 35,
     "metadata": {},
     "output_type": "execute_result"
    }
   ],
   "source": [
    "#Eigenvalues\n",
    "from numpy import linalg as LA\n",
    "w, v = LA.eig(np.array([[1, np.sqrt(3)], [np.sqrt(3), 1]]))\n",
    "print(\"w \", w)\n",
    "print(\"v \", v)\n",
    "#assignment 7.1 theory of Kernels\n",
    "\n",
    "w, v = LA.eig(np.diag((1, 2, 3)))\n",
    "print(\"w {},\\nv {}\".format(w,v))\n",
    "np.diag((1, 2, 3))"
   ]
  },
  {
   "cell_type": "code",
   "execution_count": 36,
   "metadata": {},
   "outputs": [
    {
     "name": "stdout",
     "output_type": "stream",
     "text": [
      "{'swiss_roll': [4, 5], 'moons': [8, 2], 'blobs': [3, 4], 'circles': [500, 3]}\n",
      "key: swiss_roll value: 5\n",
      "key: moons value: 2\n",
      "key: blobs value: 4\n",
      "key: circles value: 3\n"
     ]
    },
    {
     "data": {
      "text/plain": [
       "[8, 2]"
      ]
     },
     "execution_count": 36,
     "metadata": {},
     "output_type": "execute_result"
    }
   ],
   "source": [
    "#dictionary\n",
    "datasets = {'moons': [8,2],\n",
    "           'circles': [500,3],\n",
    "           'blobs': [3,4],\n",
    "           'swiss_roll': [4,5],}\n",
    "print(datasets)\n",
    "for key, value in datasets.items():    #browse through dictionary, in no specific order !!\n",
    "    print(\"key: %s value: %d\" % (key, value[1]))\n",
    "    #print(\"Accuracy: %0.2f (+/- %0.2f)\" % (2.25, 3.57))\n",
    "x = datasets['moons']\n",
    "x"
   ]
  },
  {
   "cell_type": "code",
   "execution_count": 37,
   "metadata": {},
   "outputs": [
    {
     "name": "stdout",
     "output_type": "stream",
     "text": [
      "gaga == yasoob\n"
     ]
    }
   ],
   "source": [
    "\n",
    "\n",
    "def greet_me(**kwargs):\n",
    "    if kwargs is not None:\n",
    "        for key, value in kwargs.items():  #previously \"iteritems\"\n",
    "            print(\"%s == %s\" %(key,value))\n",
    "greet_me(gaga=\"yasoob\")"
   ]
  },
  {
   "cell_type": "code",
   "execution_count": 38,
   "metadata": {},
   "outputs": [
    {
     "name": "stdout",
     "output_type": "stream",
     "text": [
      "first normal arg: yasoob\n",
      "another arg through *argv : python\n",
      "another arg through *argv : eggs\n",
      "another arg through *argv : test\n",
      "kwargs  {'name': 'yasoob'}\n",
      "name == yasoob\n",
      "arg1: two\n",
      "arg2: 3\n",
      "arg3: 5\n",
      "arg1: 5\n",
      "arg2: two\n",
      "arg3: 3\n"
     ]
    }
   ],
   "source": [
    "#https://pythontips.com/2013/08/04/args-and-kwargs-in-python-explained/\n",
    "\n",
    "#args is used to send a non-keyworded variable length argument list to the function.\n",
    "def test_var_args(f_arg, *argv):\n",
    "    print(\"first normal arg:\", f_arg)\n",
    "    for arg in argv:\n",
    "        print(\"another arg through *argv :\", arg)\n",
    "test_var_args('yasoob','python','eggs','test')\n",
    "\n",
    "#**kwargs allows you to pass keyworded variable length of arguments (analog dictionary) to a function. \n",
    "#You should use **kwargs if you want to handle named arguments in a function. \n",
    "def greet_me(**kwargs):\n",
    "    print(\"kwargs \", kwargs)\n",
    "    if kwargs is not None:\n",
    "        for key, value in kwargs.items():  #previously \"iteritems\"\n",
    "            print(\"%s == %s\" %(key,value))\n",
    "greet_me(name=\"yasoob\")\n",
    "\n",
    "def test_args_kwargs(arg1, arg2, arg3):\n",
    "    print(\"arg1:\", arg1)\n",
    "    print(\"arg2:\", arg2)\n",
    "    print(\"arg3:\", arg3)\n",
    "\n",
    "# first with *args\n",
    "args = (\"two\", 3,5)   #non keyworded list (round brackets: unchangeable tupel)\n",
    "test_args_kwargs(*args)\n",
    "\n",
    "# now with **kwargs: key names must match Names of arguments in Function Definition (\"arg3\" etc.), \n",
    "#order of arguments according to keynames\n",
    "kwargs = {\"arg3\": 3, \"arg2\": \"two\",\"arg1\":5}   #keyworded list = dict\n",
    "test_args_kwargs(**kwargs)\n"
   ]
  },
  {
   "cell_type": "code",
   "execution_count": 39,
   "metadata": {},
   "outputs": [
    {
     "name": "stdout",
     "output_type": "stream",
     "text": [
      "[1]\n"
     ]
    }
   ],
   "source": [
    "import numpy as np\n",
    "X = np.array([[-1, -1], [-2, -1], [1, 1], [2, 1]])\n",
    "y = np.array([1, 1, 2, 2])\n",
    "from sklearn.svm import SVC\n",
    "clf = SVC()\n",
    "clf.fit(X, y) \n",
    "SVC(C=1.0, cache_size=200, class_weight=None, coef0=0.0,\n",
    "    decision_function_shape=None, degree=3, gamma='auto', kernel='rbf',\n",
    "    max_iter=-1, probability=False, random_state=None, shrinking=True,\n",
    "    tol=0.001, verbose=False)\n",
    "print(clf.predict([[-0.8, -1]]))\n"
   ]
  },
  {
   "cell_type": "code",
   "execution_count": 40,
   "metadata": {},
   "outputs": [
    {
     "name": "stdout",
     "output_type": "stream",
     "text": [
      "[[ 1.]\n",
      " [ 2.]\n",
      " [ 3.]]\n",
      "(3, 1)\n",
      "[[ 3.]\n",
      " [ 4.]\n",
      " [ 5.]]\n",
      "(3, 1)\n",
      "y.shape  (3, 1)\n"
     ]
    },
    {
     "data": {
      "text/plain": [
       "array([ 2.])"
      ]
     },
     "execution_count": 40,
     "metadata": {},
     "output_type": "execute_result"
    }
   ],
   "source": [
    "def squared_error(y_predicted, y):\n",
    "    print(\"y.shape \", y.shape)\n",
    "    err = 0\n",
    "    for i in range(y.shape[0]):\n",
    "        err += (y_predicted[i]-y[i])*(y_predicted[i]-y[i])\n",
    "    err=err/(2*y.shape[0])\n",
    "    return err # return scalar \n",
    "\n",
    "y_test = np.random.standard_normal((3, 1))\n",
    "y_test[0]=1;\n",
    "y_test[1]=2;\n",
    "y_test[2]=3;\n",
    "print(y_test)\n",
    "print(y_test.shape)\n",
    "\n",
    "y_act = np.random.standard_normal((3, 1))\n",
    "y_act[0]=3;\n",
    "y_act[1]=4;\n",
    "y_act[2]=5;\n",
    "print(y_act)\n",
    "print(y_act.shape)\n",
    "\n",
    "err = squared_error(y_test,y_act)\n",
    "err"
   ]
  },
  {
   "cell_type": "code",
   "execution_count": 41,
   "metadata": {},
   "outputs": [
    {
     "data": {
      "text/plain": [
       "array([0, 6])"
      ]
     },
     "execution_count": 41,
     "metadata": {},
     "output_type": "execute_result"
    }
   ],
   "source": [
    "a=np.sum([[0, 1], [0, 5]], axis=0)\n",
    "b=np.sum([[0, 1], [0, 5]], axis=1)\n",
    "a\n"
   ]
  },
  {
   "cell_type": "code",
   "execution_count": 42,
   "metadata": {},
   "outputs": [
    {
     "data": {
      "text/plain": [
       "array([ nan,  nan,  nan,  nan,  nan,  nan,  nan,  nan,  nan,  nan])"
      ]
     },
     "execution_count": 42,
     "metadata": {},
     "output_type": "execute_result"
    }
   ],
   "source": [
    "a = np.nan\n",
    "b = np.ones(10)\n",
    "c = np.ones(10) * np.nan\n",
    "\n",
    "c\n"
   ]
  },
  {
   "cell_type": "code",
   "execution_count": 43,
   "metadata": {},
   "outputs": [
    {
     "name": "stdout",
     "output_type": "stream",
     "text": [
      "Epoch 0\n",
      "Epoch 5\n",
      "Epoch 10\n",
      "Epoch 15\n"
     ]
    }
   ],
   "source": [
    "x = 20\n",
    "for i in range(x):\n",
    "    if i % 5 == 0:   # modulo\n",
    "        print('Epoch {:d}'.format(i))"
   ]
  },
  {
   "cell_type": "markdown",
   "metadata": {},
   "source": [
    "### Knowing your task and knowing your data"
   ]
  },
  {
   "cell_type": "markdown",
   "metadata": {},
   "source": [
    "### Why Python?"
   ]
  },
  {
   "cell_type": "markdown",
   "metadata": {},
   "source": [
    "### Scikit-learn\n",
    "#### Installing Scikit-learn"
   ]
  },
  {
   "cell_type": "markdown",
   "metadata": {},
   "source": [
    "#### Essential Libraries and Toolsdedde"
   ]
  },
  {
   "cell_type": "markdown",
   "metadata": {},
   "source": [
    "##### Jupyter Notebook"
   ]
  },
  {
   "cell_type": "markdown",
   "metadata": {},
   "source": [
    "##### NumPy"
   ]
  },
  {
   "cell_type": "code",
   "execution_count": 44,
   "metadata": {
    "uuid": "e2b8e959-75f0-4fa9-a878-5ab024f89223"
   },
   "outputs": [
    {
     "name": "stdout",
     "output_type": "stream",
     "text": [
      "x:\n",
      "[[1 2 3]\n",
      " [4 5 6]]\n"
     ]
    }
   ],
   "source": [
    "import numpy as np\n",
    "\n",
    "x = np.array([[1, 2, 3], [4, 5, 6]])\n",
    "print(\"x:\\n{}\".format(x))"
   ]
  },
  {
   "cell_type": "markdown",
   "metadata": {},
   "source": [
    "##### SciPy"
   ]
  },
  {
   "cell_type": "code",
   "execution_count": 45,
   "metadata": {},
   "outputs": [
    {
     "name": "stdout",
     "output_type": "stream",
     "text": [
      "NumPy array:\n",
      "[[ 1.  0.  0.  0.]\n",
      " [ 0.  1.  0.  0.]\n",
      " [ 0.  0.  1.  0.]\n",
      " [ 0.  0.  0.  1.]]\n"
     ]
    }
   ],
   "source": [
    "from scipy import sparse\n",
    "\n",
    "# create a 2d NumPy array with a diagonal of ones, and zeros everywhere else\n",
    "eye = np.eye(4)\n",
    "print(\"NumPy array:\\n{}\".format(eye))"
   ]
  },
  {
   "cell_type": "code",
   "execution_count": 46,
   "metadata": {},
   "outputs": [
    {
     "name": "stdout",
     "output_type": "stream",
     "text": [
      "\n",
      "SciPy sparse CSR matrix:\n",
      "  (0, 0)\t1.0\n",
      "  (1, 1)\t1.0\n",
      "  (2, 2)\t1.0\n",
      "  (3, 3)\t1.0\n"
     ]
    }
   ],
   "source": [
    "# convert the NumPy array to a SciPy sparse matrix in CSR format\n",
    "# only the non-zero entries are stored\n",
    "sparse_matrix = sparse.csr_matrix(eye)\n",
    "print(\"\\nSciPy sparse CSR matrix:\\n{}\".format(sparse_matrix))"
   ]
  },
  {
   "cell_type": "code",
   "execution_count": 47,
   "metadata": {},
   "outputs": [
    {
     "name": "stdout",
     "output_type": "stream",
     "text": [
      "COO representation:\n",
      "  (0, 0)\t1.0\n",
      "  (1, 1)\t1.0\n",
      "  (2, 2)\t1.0\n",
      "  (3, 3)\t1.0\n"
     ]
    }
   ],
   "source": [
    "data = np.ones(4)\n",
    "row_indices = np.arange(4)\n",
    "col_indices = np.arange(4)\n",
    "eye_coo = sparse.coo_matrix((data, (row_indices, col_indices)))\n",
    "print(\"COO representation:\\n{}\".format(eye_coo))"
   ]
  },
  {
   "cell_type": "code",
   "execution_count": 48,
   "metadata": {},
   "outputs": [
    {
     "name": "stdout",
     "output_type": "stream",
     "text": [
      "x [1 3 1 1 0 0 0 1 0 0 0 0 0 0 0 0 0 0 0 0 0 0 0 1]\n",
      "check True\n",
      "weighted [ 0.3  0.7  1.1]\n",
      "weighted manual [ 0.3  0.7  1.1]\n"
     ]
    }
   ],
   "source": [
    "# \"binning\", counting occurences and distributing in \"bins\" \n",
    "np.bincount(np.array([0, 1, 1, 3, 2, 1, 7]))\n",
    "x = np.array([0, 1, 1, 3, 2, 1, 7, 23])\n",
    "print(\"x {}\".format(np.bincount(x)))\n",
    "print(\"check {}\".format(np.bincount(x).size == np.amax(x)+1)) #Zahl der Einträge immer größte zahl plus 1 (wegen Null)\n",
    "\n",
    "#weights, \n",
    "w = np.array([0.3, 0.5, 0.2, 0.7, 1., -0.6])\n",
    "x = np.array([0, 1, 1, 2, 2, 2])\n",
    "np.bincount(x,  weights=w)\n",
    "print(\"weighted {}\".format(np.bincount(x,  weights=w)))\n",
    "y=np.array([0.3,0.5+0.2,(0.7+1.0-0.6)])\n",
    "print(\"weighted manual {}\".format(y))\n",
    "#A possible use of bincount is to perform sums over variable-size chunks of an array, using the weights keyword \n",
    "#(wahrscheinlich indem man manche durch weight=0 rauslässt)"
   ]
  },
  {
   "cell_type": "code",
   "execution_count": 49,
   "metadata": {},
   "outputs": [
    {
     "data": {
      "text/plain": [
       "array([[5, 5, 6, 8],\n",
       "       [5, 5, 6, 8],\n",
       "       [5, 5, 6, 8]])"
      ]
     },
     "execution_count": 49,
     "metadata": {},
     "output_type": "execute_result"
    }
   ],
   "source": [
    "e=np.repeat(3, 4)\n",
    "#array([3, 3, 3, 3])\n",
    "x = np.array([[1,2],[3,4]])\n",
    "np.repeat(x, 2)\n",
    "#array([1, 1, 2, 2, 3, 3, 4, 4])\n",
    "l = np.repeat(x, 3, axis=1)\n",
    "k= np.repeat(x, [1, 2], axis=0)\n",
    "\n",
    "y = np.atleast_2d([1,2,3,4])\n",
    "z = np.repeat(y, 3, axis=0)\n",
    "a = np.maximum((z + z),5)\n",
    "b = z + np.array([1,1,1,3])\n",
    "a\n",
    "#y = np.array([1,2,3])\n",
    "#np.repeat(y,4,axis=1)"
   ]
  },
  {
   "cell_type": "code",
   "execution_count": 50,
   "metadata": {},
   "outputs": [
    {
     "data": {
      "text/plain": [
       "array([[ 0.,  0.,  0.],\n",
       "       [ 0.,  1.,  1.]])"
      ]
     },
     "execution_count": 50,
     "metadata": {},
     "output_type": "execute_result"
    }
   ],
   "source": [
    "x = np.array([[1,2,3],[3,4,5]])    \n",
    "\n",
    "def relu_grad_1d(x):\n",
    "    if x>3:\n",
    "        return 1\n",
    "    else:\n",
    "        return 0\n",
    "\n",
    "def relu_grad(x):\n",
    "    grad=np.zeros(x.shape)\n",
    "    for i in range(x.shape[0]):\n",
    "        for k in range(x.shape[1]):\n",
    "            grad[i,k] = relu_grad_1d(x[i,k])\n",
    "    return grad\n",
    "\n",
    "y = relu_grad(x)\n",
    "y"
   ]
  },
  {
   "cell_type": "markdown",
   "metadata": {},
   "source": [
    "##### matplotlib"
   ]
  },
  {
   "cell_type": "code",
   "execution_count": 11,
   "metadata": {
    "uuid": "30faf136-0ef7-4762-bd82-3795eea323d0"
   },
   "outputs": [
    {
     "data": {
      "text/plain": [
       "[<matplotlib.lines.Line2D at 0x7fc530d047d0>]"
      ]
     },
     "execution_count": 11,
     "metadata": {},
     "output_type": "execute_result"
    },
    {
     "data": {
      "image/png": "[encoded data removed]",
      "text/plain": [
       "<matplotlib.figure.Figure at 0x7fc530a86190>"
      ]
     },
     "metadata": {},
     "output_type": "display_data"
    }
   ],
   "source": [
    "%matplotlib inline\n",
    "import matplotlib.pyplot as plt\n",
    "\n",
    "# Generate a sequence numbers from -10 to 10 with 100 steps in between\n",
    "x = np.linspace(-10, 10, 100)\n",
    "# create a second array using sinus\n",
    "y = np.sin(x)\n",
    "# The plot function makes a line chart of one array against another\n",
    "plt.figure(figsize=(7,7))\n",
    "plt.plot(x, y, marker=\"x\")\n",
    "    "
   ]
  },
  {
   "cell_type": "code",
   "execution_count": null,
   "metadata": {
    "collapsed": true
   },
   "outputs": [],
   "source": [
    "# generate and organise shuffled data per indices\n",
    "ds_data = 'data/non-lin_train.data'\n",
    "ds_labels ='data/non-lin_train.labels'\n",
    "X = np.loadtxt(ds_data)\n",
    "y = np.loadtxt(ds_labels)\n",
    "\n",
    "n_samples = len(y)\n",
    "\n",
    "idx_all = np.arange(n_samples)\n",
    "\n",
    "np.random.shuffle(idx_all) #index Liste wird geschüttelt\n",
    "\n",
    "# index aufteilen in training und validation data\n",
    "idx_tr = idx_all[:int(0.7*n_samples)]\n",
    "idx_val = idx_all[int(0.7*n_samples):]\n",
    "\n",
    "# index mit Verteilung auf Daten anwenden\n",
    "X_tr = X[idx_tr,:]    # vermischte X Daten, Teil 0-70%\n",
    "y_tr = y[idx_tr]\n",
    "\n",
    "X_va = X[idx_val,:]\n",
    "y_va = y[idx_val]\n",
    "\n",
    "# create index of class 1\n",
    "idx_c1 = np.where(y_tr == 0)\n",
    "idx_c2 = np.where(y_tr == 1)\n",
    "\n",
    "plt.figure()\n",
    "plt.scatter(X_tr[idx_c1,0],X_tr[idx_c1,1],c='b')\n",
    "plt.scatter(X_tr[idx_c2,0],X_tr[idx_c2,1],c='g')\n",
    "plt.xlabel('x1')\n",
    "plt.ylabel('x2')\n",
    "plt.grid()"
   ]
  },
  {
   "cell_type": "code",
   "execution_count": 28,
   "metadata": {},
   "outputs": [
    {
     "name": "stdout",
     "output_type": "stream",
     "text": [
      "swap idx [0, 1, 2, 3, 4, 5, 6, 7]\n",
      "shuffled swap idx [0, 3, 5, 6, 2, 1, 4, 7]\n",
      "swapped part [0, 3, 5, 6]\n",
      "y_train_noise [-1.  2.  3. -4.  5. -6. -7.  8.]\n",
      "y_random_noise [ 0.86043131  2.31519116  2.81340911  4.54609722  4.64308547  5.91260057\n",
      "  6.79743397  8.42488021]\n"
     ]
    }
   ],
   "source": [
    "# add noise to data, means here, to swap sign of a fraction of y / target values - from assignment 9 adaboost\n",
    "X_train = np.array([1.,2.,3.,4.,5.,6.,7.,8.])\n",
    "y_train = np.array([1.,2.,3.,4.,5.,6.,7.,8.])\n",
    "swap_ratio = 0.5\n",
    "swap_idx = list(range(0, y_train.shape[0]))\n",
    "print(\"swap idx\",swap_idx)\n",
    "np.random.shuffle(swap_idx) # shuffled list of indices \n",
    "print(\"shuffled swap idx\",swap_idx)\n",
    "# list of indecees of values to be swapped\n",
    "print(\"swapped part\",swap_idx[:int(y_train.shape[0]*swap_ratio)]) # e.g. swap_idx[:4]\n",
    "y_train[swap_idx[:int(y_train.shape[0]*swap_ratio)]] *= -1\n",
    "print(\"y_train_noise\",y_train)\n",
    "\n",
    "# add noise to data - from assignment 9 gbm\n",
    "y = np.array([1.,2.,3.,4.,5.,6.,7.,8.])\n",
    "y += np.random.randn(y.shape[0]) * 0.3\n",
    "print(\"y_random_noise\",y)\n",
    "\n",
    "def create_dataset():   # from assignment 9 gbm\n",
    "    boston = sklearn.datasets.load_boston()\n",
    "    X = boston.data\n",
    "    y = boston.target\n",
    "    X_train, X_test, y_train, y_test = \\\n",
    "        sklearn.model_selection.train_test_split(X, y, random_state=1)   # random seed for randum selection (no noise)\n",
    "    return X_train, y_train, X_test, y_test"
   ]
  },
  {
   "cell_type": "markdown",
   "metadata": {},
   "source": [
    "##### pandas"
   ]
  },
  {
   "cell_type": "code",
   "execution_count": 52,
   "metadata": {
    "uuid": "ad1b06f7-e03a-4938-9d59-5bb40e848553"
   },
   "outputs": [
    {
     "ename": "NameError",
     "evalue": "name 'display' is not defined",
     "output_type": "error",
     "traceback": [
      "\u001b[1;31m---------------------------------------------------------------------------\u001b[0m",
      "\u001b[1;31mNameError\u001b[0m                                 Traceback (most recent call last)",
      "\u001b[1;32m<ipython-input-52-5c6beb74f93c>\u001b[0m in \u001b[0;36m<module>\u001b[1;34m()\u001b[0m\n\u001b[0;32m     10\u001b[0m \u001b[1;31m# IPython.display allows \"pretty printing\" of dataframes\u001b[0m\u001b[1;33m\u001b[0m\u001b[1;33m\u001b[0m\u001b[0m\n\u001b[0;32m     11\u001b[0m \u001b[1;31m# in the Jupyter notebook\u001b[0m\u001b[1;33m\u001b[0m\u001b[1;33m\u001b[0m\u001b[0m\n\u001b[1;32m---> 12\u001b[1;33m \u001b[0mdisplay\u001b[0m\u001b[1;33m(\u001b[0m\u001b[0mdata_pandas\u001b[0m\u001b[1;33m)\u001b[0m\u001b[1;33m\u001b[0m\u001b[0m\n\u001b[0m",
      "\u001b[1;31mNameError\u001b[0m: name 'display' is not defined"
     ]
    }
   ],
   "source": [
    "import pandas as pd\n",
    "\n",
    "# create a simple dataset of people\n",
    "data = {'Name': [\"John\", \"Anna\", \"Peter\", \"Linda\"],\n",
    "        'Location' : [\"New York\", \"Paris\", \"Berlin\", \"London\"],\n",
    "        'Age' : [24, 13, 53, 33]\n",
    "       }\n",
    "\n",
    "data_pandas = pd.DataFrame(data)\n",
    "# IPython.display allows \"pretty printing\" of dataframes\n",
    "# in the Jupyter notebook\n",
    "display(data_pandas)"
   ]
  },
  {
   "cell_type": "code",
   "execution_count": null,
   "metadata": {},
   "outputs": [],
   "source": [
    "# One of many possible ways to query the table:\n",
    "# selecting all rows that have an age column greate than 30\n",
    "display(data_pandas[data_pandas.Age > 30])"
   ]
  },
  {
   "cell_type": "markdown",
   "metadata": {},
   "source": [
    "##### mglearn"
   ]
  },
  {
   "cell_type": "markdown",
   "metadata": {},
   "source": [
    "#### Python2 versus Python3"
   ]
  },
  {
   "cell_type": "markdown",
   "metadata": {},
   "source": [
    "#### Versions Used in this Book"
   ]
  },
  {
   "cell_type": "code",
   "execution_count": null,
   "metadata": {},
   "outputs": [],
   "source": [
    "import sys\n",
    "print(\"Python version: {}\".format(sys.version))\n",
    "\n",
    "import pandas as pd\n",
    "print(\"pandas version: {}\".format(pd.__version__))\n",
    "\n",
    "import matplotlib\n",
    "print(\"matplotlib version: {}\".format(matplotlib.__version__))\n",
    "\n",
    "import numpy as np\n",
    "print(\"NumPy version: {}\".format(np.__version__))\n",
    "\n",
    "import scipy as sp\n",
    "print(\"SciPy version: {}\".format(sp.__version__))\n",
    "\n",
    "import IPython\n",
    "print(\"IPython version: {}\".format(IPython.__version__))\n",
    "\n",
    "import sklearn\n",
    "print(\"scikit-learn version: {}\".format(sklearn.__version__))"
   ]
  },
  {
   "cell_type": "markdown",
   "metadata": {},
   "source": [
    "### A First Application: Classifying iris species\n",
    "![sepal_petal](images/iris_petal_sepal.png)\n",
    "#### Meet the data"
   ]
  },
  {
   "cell_type": "code",
   "execution_count": null,
   "metadata": {
    "scrolled": true
   },
   "outputs": [],
   "source": [
    "from sklearn.datasets import load_iris\n",
    "iris_dataset = load_iris()"
   ]
  },
  {
   "cell_type": "code",
   "execution_count": null,
   "metadata": {},
   "outputs": [],
   "source": [
    "print(\"Keys of iris_dataset: {}\".format(iris_dataset.keys()))"
   ]
  },
  {
   "cell_type": "code",
   "execution_count": null,
   "metadata": {
    "scrolled": true
   },
   "outputs": [],
   "source": [
    "print(iris_dataset['DESCR'][:193] + \"\\n...\")"
   ]
  },
  {
   "cell_type": "code",
   "execution_count": null,
   "metadata": {},
   "outputs": [],
   "source": [
    "print(\"Target names: {}\".format(iris_dataset['target_names']))"
   ]
  },
  {
   "cell_type": "code",
   "execution_count": null,
   "metadata": {},
   "outputs": [],
   "source": [
    "print(\"Feature names: {}\".format(iris_dataset['feature_names']))"
   ]
  },
  {
   "cell_type": "code",
   "execution_count": null,
   "metadata": {},
   "outputs": [],
   "source": [
    "print(\"Type of data: {}\".format(type(iris_dataset['data'])))"
   ]
  },
  {
   "cell_type": "code",
   "execution_count": null,
   "metadata": {},
   "outputs": [],
   "source": [
    "print(\"Shape of data: {}\".format(iris_dataset['data'].shape))"
   ]
  },
  {
   "cell_type": "code",
   "execution_count": null,
   "metadata": {},
   "outputs": [],
   "source": [
    "print(\"First five columns of data:\\n{}\".format(iris_dataset['data'][:5]))"
   ]
  },
  {
   "cell_type": "code",
   "execution_count": null,
   "metadata": {},
   "outputs": [],
   "source": [
    "print(\"Type of target: {}\".format(type(iris_dataset['target'])))"
   ]
  },
  {
   "cell_type": "code",
   "execution_count": null,
   "metadata": {},
   "outputs": [],
   "source": [
    "print(\"Shape of target: {}\".format(iris_dataset['target'].shape))"
   ]
  },
  {
   "cell_type": "code",
   "execution_count": null,
   "metadata": {},
   "outputs": [],
   "source": [
    "print(\"Target:\\n{}\".format(iris_dataset['target']))"
   ]
  },
  {
   "cell_type": "markdown",
   "metadata": {},
   "source": [
    "#### Measuring Success: Training and testing data"
   ]
  },
  {
   "cell_type": "code",
   "execution_count": null,
   "metadata": {},
   "outputs": [],
   "source": [
    "from sklearn.model_selection import train_test_split\n",
    "X_train, X_test, y_train, y_test = train_test_split(\n",
    "    iris_dataset['data'], iris_dataset['target'], random_state=0)"
   ]
  },
  {
   "cell_type": "code",
   "execution_count": null,
   "metadata": {},
   "outputs": [],
   "source": [
    "print(\"X_train shape: {}\".format(X_train.shape))\n",
    "print(\"y_train shape: {}\".format(y_train.shape))"
   ]
  },
  {
   "cell_type": "code",
   "execution_count": null,
   "metadata": {},
   "outputs": [],
   "source": [
    "print(\"X_test shape: {}\".format(X_test.shape))\n",
    "print(\"y_test shape: {}\".format(y_test.shape))"
   ]
  },
  {
   "cell_type": "markdown",
   "metadata": {},
   "source": [
    "#### First things first: Look at your data"
   ]
  },
  {
   "cell_type": "code",
   "execution_count": null,
   "metadata": {},
   "outputs": [],
   "source": [
    "# create dataframe from data in X_train\n",
    "# label the columns using the strings in iris_dataset.feature_names\n",
    "iris_dataframe = pd.DataFrame(X_train, columns=iris_dataset.feature_names)\n",
    "# create a scatter matrix from the dataframe, color by y_train\n",
    "grr = pd.scatter_matrix(iris_dataframe, c=y_train, figsize=(15, 15), marker='o',\n",
    "                        hist_kwds={'bins': 20}, s=60, alpha=.8, cmap=mglearn.cm3)"
   ]
  },
  {
   "cell_type": "markdown",
   "metadata": {},
   "source": [
    "#### Building your first model: k nearest neighbors"
   ]
  },
  {
   "cell_type": "code",
   "execution_count": null,
   "metadata": {},
   "outputs": [],
   "source": [
    "from sklearn.neighbors import KNeighborsClassifier\n",
    "knn = KNeighborsClassifier(n_neighbors=1)"
   ]
  },
  {
   "cell_type": "code",
   "execution_count": null,
   "metadata": {},
   "outputs": [],
   "source": [
    "knn.fit(X_train, y_train)"
   ]
  },
  {
   "cell_type": "markdown",
   "metadata": {
    "collapsed": true
   },
   "source": [
    "#### Making predictions"
   ]
  },
  {
   "cell_type": "code",
   "execution_count": null,
   "metadata": {},
   "outputs": [],
   "source": [
    "X_new = np.array([[5, 2.9, 1, 0.2]])\n",
    "print(\"X_new.shape: {}\".format(X_new.shape))"
   ]
  },
  {
   "cell_type": "code",
   "execution_count": null,
   "metadata": {},
   "outputs": [],
   "source": [
    "prediction = knn.predict(X_new)\n",
    "print(\"Prediction: {}\".format(prediction))\n",
    "print(\"Predicted target name: {}\".format(\n",
    "       iris_dataset['target_names'][prediction]))"
   ]
  },
  {
   "cell_type": "markdown",
   "metadata": {},
   "source": [
    "#### Evaluating the model"
   ]
  },
  {
   "cell_type": "code",
   "execution_count": null,
   "metadata": {},
   "outputs": [],
   "source": [
    "y_pred = knn.predict(X_test)\n",
    "print(\"Test set predictions:\\n {}\".format(y_pred))"
   ]
  },
  {
   "cell_type": "code",
   "execution_count": null,
   "metadata": {},
   "outputs": [],
   "source": [
    "print(\"Test set score: {:.2f}\".format(np.mean(y_pred == y_test)))"
   ]
  },
  {
   "cell_type": "code",
   "execution_count": null,
   "metadata": {},
   "outputs": [],
   "source": [
    "print(\"Test set score: {:.2f}\".format(knn.score(X_test, y_test)))"
   ]
  },
  {
   "cell_type": "markdown",
   "metadata": {},
   "source": [
    "#### Summary"
   ]
  },
  {
   "cell_type": "code",
   "execution_count": 1,
   "metadata": {},
   "outputs": [
    {
     "ename": "NameError",
     "evalue": "name 'train_test_split' is not defined",
     "output_type": "error",
     "traceback": [
      "\u001b[0;31m---------------------------------------------------------------------------\u001b[0m",
      "\u001b[0;31mNameError\u001b[0m                                 Traceback (most recent call last)",
      "\u001b[0;32m<ipython-input-1-92fa69777eda>\u001b[0m in \u001b[0;36m<module>\u001b[0;34m()\u001b[0m\n\u001b[0;32m----> 1\u001b[0;31m X_train, X_test, y_train, y_test = train_test_split(\n\u001b[0m\u001b[1;32m      2\u001b[0m     iris_dataset['data'], iris_dataset['target'], random_state=0)\n\u001b[1;32m      3\u001b[0m \u001b[0;34m\u001b[0m\u001b[0m\n\u001b[1;32m      4\u001b[0m \u001b[0mknn\u001b[0m \u001b[0;34m=\u001b[0m \u001b[0mKNeighborsClassifier\u001b[0m\u001b[0;34m(\u001b[0m\u001b[0mn_neighbors\u001b[0m\u001b[0;34m=\u001b[0m\u001b[0;36m1\u001b[0m\u001b[0;34m)\u001b[0m\u001b[0;34m\u001b[0m\u001b[0m\n\u001b[1;32m      5\u001b[0m \u001b[0mknn\u001b[0m\u001b[0;34m.\u001b[0m\u001b[0mfit\u001b[0m\u001b[0;34m(\u001b[0m\u001b[0mX_train\u001b[0m\u001b[0;34m,\u001b[0m \u001b[0my_train\u001b[0m\u001b[0;34m)\u001b[0m\u001b[0;34m\u001b[0m\u001b[0m\n",
      "\u001b[0;31mNameError\u001b[0m: name 'train_test_split' is not defined"
     ]
    }
   ],
   "source": [
    "X_train, X_test, y_train, y_test = train_test_split(\n",
    "    iris_dataset['data'], iris_dataset['target'], random_state=0)\n",
    "\n",
    "knn = KNeighborsClassifier(n_neighbors=1)\n",
    "knn.fit(X_train, y_train)\n",
    "\n",
    "print(\"Test set score: {:.2f}\".format(knn.score(X_test, y_test)))\n"
   ]
  },
  {
   "cell_type": "code",
   "execution_count": null,
   "metadata": {},
   "outputs": [],
   "source": [
    "    # The first thing to calculate is the gradient of the error function wrt\n",
    "    # the prediction the network made\n",
    "    error_grad = squared_error_grad(activations['output_act'], y)   #dL/dY_hat   dim (30,1), as y\n",
    "    \n",
    "    # Now we can go backwards layer by layer\n",
    "    # First derive wrt the activation function, because it is the last thing we did in\n",
    "    # the forward pass \n",
    "    #output_act_grad = linear_grad(squared_error_grad(activations['output_act'],y))\n",
    "    # my false version: output_act_grad = linear_grad(error_grad)  \n",
    "    # dL/da1    dim (30,1), as error_grad - after Bishop dL/da1 is \"error sigma\"\n",
    "    output_act_grad = error_grad * linear_grad(activations['output_linear']) \n",
    "\n",
    "    # Two objects contributed to Xw + b: the weights and the bias\n",
    "    # These are the parameters of our network and will let us update\n",
    "    # the network later.\n",
    "    # dL/dw1 = z0T * dL/da1  dim (50,1), as\n",
    "    output_weights_grad = np.dot(np.transpose(activations['hidden_act']),output_act_grad)  \n",
    "    \n",
    "    # Remember that the bias was broadcasted from its shape (1, k) to \n",
    "    # (n, k) with n being the number of samples. For the correct gradient\n",
    "    # you need to get back to (1, k) by summing up.  (being k=1 in this case, only one output variable)\n",
    "    # output_bias_grad = output_act_grad # dL/db1 = 1(nxn) * dL/da1 = dL/da1\n",
    "    output_bias_grad = np.atleast_2d(np.sum(output_act_grad)) # dL/db1 = 1(nxn) * dL/da1 = dL/da1\n",
    "    \n",
    "    # The last thing to do for the output layer is to take the derivative wrt\n",
    "    # its input, so we can backpropagate the errors the previous layers need\n",
    "    # to fix. dL/da1 = \"error sigma\" according to Bishop\n",
    "    # dL/dz0 = dL/da1 * w1_T, dim (30,50) the output of the hidden layer = input to the output layer\n",
    "    # dL/dz0 dim = (30,1)dot(1,50)  = (30,50)\n",
    "    output_inp_grad = np.dot(output_act_grad,np.transpose(output_weights)) \n",
    "\n",
    "    # From here on, everything is the same as for the output layer, except\n",
    "    # for the changed activation function\n",
    "    #print(\"output_inp_grad \\n\", output_inp_grad)\n",
    "    #hidden_act_grad = relu_grad(output_inp_grad)     # dL/da0 = dL/dz0*dz0/da0 dim(30,50)\n",
    "    \n",
    "    # return matrix with elementwise value of either dL/dz0 or zero, depending on if a0 > or < zero\n",
    "    # hidden_act_grad = output_inp_grad * relu_grad(activations['hidden_linear']) --> * acts a hadamard product\n",
    "    hidden_act_grad = np.multiply(output_inp_grad,relu_grad(activations['hidden_linear']))\n",
    "    \n",
    "    Test_act_grad = np.multiply(output_inp_grad,tanh_grad(activations['hidden_linear']))\n",
    "    #hidden_act_grad = linear_grad(output_inp_grad)     # dL/da0 = dL/dz0*dz0/da0 dim(30,50)\n",
    "    #print(\"hidden_act_grad \\n\", hidden_act_grad)\n",
    "    \n",
    "    hidden_weights_grad = np.dot(np.transpose(X),hidden_act_grad) # dL/dw0 = XT * dL/da0  dim(13,30)x(30,50)=(13,50)\n",
    "    \n",
    "    # collapse from (30,50) --> (1,50)\n",
    "    hidden_bias_grad = np.atleast_2d(np.sum(hidden_act_grad,axis=0)) # dL/db0 = dL/da0 (30,50) --> (1,50) to be condensed\n",
    "    \n",
    "    # These are the gradients we care about in the end, because\n",
    "    # we need them to update our network\n",
    "    gradients = (\n",
    "        output_weights_grad,\n",
    "        output_bias_grad,\n",
    "        hidden_weights_grad,\n",
    "        hidden_bias_grad\n",
    "    )        "
   ]
  }
 ],
 "metadata": {
  "anaconda-cloud": {},
  "kernelspec": {
   "display_name": "Python 3",
   "language": "python",
   "name": "python3"
  },
  "language_info": {
   "codemirror_mode": {
    "name": "ipython",
    "version": 3
   },
   "file_extension": ".py",
   "mimetype": "text/x-python",
   "name": "python",
   "nbconvert_exporter": "python",
   "pygments_lexer": "ipython3",
   "version": "3.5.2"
  }
 },
 "nbformat": 4,
 "nbformat_minor": 1
}
