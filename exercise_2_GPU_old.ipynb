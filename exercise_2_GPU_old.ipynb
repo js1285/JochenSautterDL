{
 "cells": [
  {
   "cell_type": "code",
   "execution_count": 3,
   "metadata": {},
   "outputs": [],
   "source": [
    "%matplotlib inline\n",
    "import numpy as np\n",
    "from IPython.core.debugger import set_trace\n",
    "import time\n",
    "\n",
    "# import _pickle as cPickle\n",
    "# import os\n",
    "# import gzip\n",
    "# from IPython.core.debugger import set_trace\n",
    "# import scipy.optimize\n",
    "import matplotlib.pyplot as plt\n",
    "import tensorflow as tf\n",
    "\n",
    "from __future__ import absolute_import\n",
    "from __future__ import division\n",
    "from __future__ import print_function\n",
    "\n",
    "import argparse\n",
    "import sys"
   ]
  },
  {
   "cell_type": "markdown",
   "metadata": {},
   "source": [
    "# Second exercise: CNN\n",
    "In this exercise you will implement a CNN"
   ]
  },
  {
   "cell_type": "code",
   "execution_count": 4,
   "metadata": {},
   "outputs": [
    {
     "name": "stdout",
     "output_type": "stream",
     "text": [
      "Extracting MNIST_data/train-images-idx3-ubyte.gz\n",
      "Extracting MNIST_data/train-labels-idx1-ubyte.gz\n",
      "Extracting MNIST_data/t10k-images-idx3-ubyte.gz\n",
      "Extracting MNIST_data/t10k-labels-idx1-ubyte.gz\n",
      "mnist Datasets(train=<tensorflow.contrib.learn.python.learn.datasets.mnist.DataSet object at 0x7f6e4c2c3da0>, validation=<tensorflow.contrib.learn.python.learn.datasets.mnist.DataSet object at 0x7f6e4c2c8908>, test=<tensorflow.contrib.learn.python.learn.datasets.mnist.DataSet object at 0x7f6e4c2c8a58>)\n"
     ]
    }
   ],
   "source": [
    "# load data\n",
    "from tensorflow.examples.tutorials.mnist import input_data\n",
    "mnist = input_data.read_data_sets(\"MNIST_data/\", one_hot=True)\n",
    "# set_trace()\n",
    "print(\"mnist {}\".format(mnist))\n",
    "# set_trace()"
   ]
  },
  {
   "cell_type": "markdown",
   "metadata": {},
   "source": []
  },
  {
   "cell_type": "code",
   "execution_count": 9,
   "metadata": {},
   "outputs": [],
   "source": [
    "def define_graph(filter_no = 16):\n",
    "\n",
    "    # define input variable\n",
    "    x = tf.placeholder(tf.float32, [None, 784])\n",
    "    y_ = tf.placeholder(tf.float32, [None, 10])\n",
    "    \n",
    "    # initialize weights with a small amount of noise for symmetry breaking, and to prevent 0 gradients\n",
    "    # The generated values follow a normal distribution with specified mean and standard deviation, \n",
    "    # except that values whose magnitude is more than 2 standard deviations from the mean are dropped and re-picked.\n",
    "    def weight_variable(shape):\n",
    "      initial = tf.truncated_normal(shape, stddev=0.1)\n",
    "      return tf.Variable(initial)\n",
    "\n",
    "    # define small positive constant bias\n",
    "    def bias_variable(shape):\n",
    "      initial = tf.constant(0.1, shape=shape)\n",
    "      return tf.Variable(initial)\n",
    "\n",
    "    # Computes a 2-D convolution given 4-D input and filter tensors. returning 4D tensor of same type as x\n",
    "    # ? means zero padding überall 2, oder ?\n",
    "    # X has 4D data format [batch, height, width, color channels]\n",
    "    # filter w has shape [filter_height, filter_width, in_channels, out_channels]  (no of filters, first colors...?)\n",
    "    # strides = The stride of the sliding window for each dimension of input \n",
    "    def conv2d(x, W):\n",
    "      return tf.nn.conv2d(x, W, strides=[1, 1, 1, 1], padding='SAME')\n",
    "\n",
    "    def max_pool_2x2(x):\n",
    "      return tf.nn.max_pool(x, ksize=[1, 2, 2, 1],\n",
    "                            strides=[1, 2, 2, 1], padding='SAME')\n",
    "\n",
    "    # first convolutional layer with 16 filters, one color\n",
    "    # initialise weights and bias (slightly randomized)\n",
    "    # 3 x 3, 1 input (only one color), 16 output channels\n",
    "    W_conv1 = weight_variable([3, 3, 1, filter_no])\n",
    "    b_conv1 = bias_variable([filter_no])\n",
    "\n",
    "    # define tensor representing input layer: reshape flattened 748 Vector to 4d tensor 28 x 28 image matrices\n",
    "    # and the final dimension corresponding to the number of color channels.\n",
    "    x_image = tf.reshape(x, [-1, 28, 28, 1])\n",
    "\n",
    "    # convolve, same size (padding, stride...), reduce size to 14x14 by maxpooling\n",
    "    h_conv1 = tf.nn.relu(conv2d(x_image, W_conv1) + b_conv1)\n",
    "    h_pool1 = max_pool_2x2(h_conv1)\n",
    "\n",
    "    # define second layer convolving same size, \n",
    "    W_conv2 = weight_variable([3, 3, filter_no, filter_no])  # ??\n",
    "    b_conv2 = bias_variable([filter_no])\n",
    "\n",
    "    # convolve, same size (padding, stride...), reduce size to 7x7 by maxpooling\n",
    "    h_conv2 = tf.nn.relu(conv2d(h_pool1, W_conv2) + b_conv2)\n",
    "    h_pool2 = max_pool_2x2(h_conv2)\n",
    "\n",
    "    # we add a fully-connected layer with 128 neurons to allow processing on the entire image.\n",
    "    # We reshape the tensor from the pooling layer into a batch of vectors, multiply by a weight matrix, add a bias, \n",
    "    # and apply a ReLU.\n",
    "    W_fc1 = weight_variable([7 * 7 * filter_no, 128])\n",
    "    b_fc1 = bias_variable([128])\n",
    "\n",
    "    h_pool2_flat = tf.reshape(h_pool2, [-1, 7*7*filter_no])   # shape is inferred as to fit to second argument\n",
    "    #test1 = tf.shape(h_pool2_flat)\n",
    "    #print(\"test1: {}\".format(test1))\n",
    "    #test2 = h_pool2_flat.get_shape()\n",
    "    #print(\"test2: {}\".format(test2))\n",
    "    h_fc1 = tf.nn.relu(tf.matmul(h_pool2_flat, W_fc1) + b_fc1)\n",
    "\n",
    "    # implement dropout\n",
    "    # keep_prob = tf.placeholder(tf.float32)\n",
    "    # h_fc1_drop = tf.nn.dropout(h_fc1, keep_prob)\n",
    "\n",
    "    # final fully connected layer\n",
    "    W_fc2 = weight_variable([128, 10])\n",
    "    b_fc2 = bias_variable([10])\n",
    "\n",
    "    # y_conv = tf.matmul(h_fc1_drop, W_fc2) + b_fc2\n",
    "    y_conv = tf.matmul(h_fc1, W_fc2) + b_fc2\n",
    "\n",
    "    return (x, y_conv, y_)\n",
    "\n",
    "def count_number_trainable_params():\n",
    "    # Counts the number of trainable variables.\n",
    "    tot_nb_params = 0\n",
    "    for trainable_variable in tf.trainable_variables():\n",
    "        shape = trainable_variable.get_shape() # e.g [D,F] or [W,H,C]\n",
    "        current_nb_params = get_nb_params_shape(shape)\n",
    "        tot_nb_params = tot_nb_params + current_nb_params\n",
    "    return tot_nb_params\n",
    "\n",
    "def get_nb_params_shape(shape):\n",
    "    # Computes the total number of params for a given shape.\n",
    "    # Works for any number of shapes etc [D,F] or [W,H,C] computes D*F and W*H*C.\n",
    "    nb_params = 1\n",
    "    for dim in shape:\n",
    "        nb_params = nb_params*int(dim)\n",
    "    return nb_params "
   ]
  },
  {
   "cell_type": "code",
   "execution_count": 20,
   "metadata": {},
   "outputs": [],
   "source": [
    "def execute_learning_rates(x, y_conv, y_):\n",
    "    cross_entropy = tf.reduce_mean(tf.nn.softmax_cross_entropy_with_logits(labels=y_, logits=y_conv))\n",
    "    train_step = tf.train.GradientDescentOptimizer(0.1).minimize(cross_entropy)\n",
    "    correct_prediction = tf.equal(tf.argmax(y_conv, 1), tf.argmax(y_, 1))\n",
    "    accuracy = tf.reduce_mean(tf.cast(correct_prediction, tf.float32))\n",
    "\n",
    "    epochs = 8\n",
    "    # learning_rates = np.array([0.1,0.01,0.001,0.0001])\n",
    "    learning_rates = np.array([0.5,0.3,0.2])\n",
    "    learning_rates = np.array([0.1])\n",
    "    test_accuracies = np.zeros([learning_rates.shape[0],epochs])\n",
    "\n",
    "    with tf.Session() as sess:\n",
    "\n",
    "        for k, learning_rate in enumerate(learning_rates):\n",
    "            train_step = tf.train.GradientDescentOptimizer(learning_rate).minimize(cross_entropy)\n",
    "            sess.run(tf.global_variables_initializer())\n",
    "            for epoch in range(epochs):\n",
    "                for i in range(1000):\n",
    "                    batch = mnist.train.next_batch(50)\n",
    "                    if i % 500 == 0:\n",
    "                        train_accuracy = accuracy.eval(feed_dict={x: batch[0], y_: batch[1]})\n",
    "                        print(\"step {}, batch training accuracy {:.4f}\".format(i, train_accuracy))\n",
    "                    train_step.run(feed_dict={x: batch[0], y_: batch[1]})\n",
    "\n",
    "                test_accuracy = accuracy.eval(feed_dict={x: mnist.test.images, y_: mnist.test.labels})\n",
    "                test_accuracies[k,epoch] = test_accuracy\n",
    "                print(\"test accuracy epoch {}: {:.4f}\".format(epoch, test_accuracy))\n",
    "            print(\"learningrate {} finished\\n\".format(learning_rate))\n",
    "\n",
    "    return(learning_rates, test_accuracies)\n",
    "\n",
    "def execute_filters(x, y_conv, y_):\n",
    "    cross_entropy = tf.reduce_mean(tf.nn.softmax_cross_entropy_with_logits(labels=y_, logits=y_conv))\n",
    "    train_step = tf.train.GradientDescentOptimizer(0.1).minimize(cross_entropy)\n",
    "    # train_step = tf.train.AdamOptimizer(1e-2).minimize(cross_entropy)\n",
    "    correct_prediction = tf.equal(tf.argmax(y_conv, 1), tf.argmax(y_, 1))\n",
    "    accuracy = tf.reduce_mean(tf.cast(correct_prediction, tf.float32))\n",
    "\n",
    "    epochs = 4\n",
    "    learning_rate = 0.1\n",
    "\n",
    "    with tf.Session() as sess:\n",
    "        train_step = tf.train.GradientDescentOptimizer(learning_rate).minimize(cross_entropy)\n",
    "        sess.run(tf.global_variables_initializer())\n",
    "        for epoch in range(epochs):\n",
    "            for i in range(50):\n",
    "                batch = mnist.train.next_batch(50)\n",
    "                if i % 50 == 0:\n",
    "                    train_accuracy = accuracy.eval(feed_dict={x: batch[0], y_: batch[1]})\n",
    "                    print(\"step {}, batch training accuracy {:.4f}\".format(i, train_accuracy))\n",
    "                train_step.run(feed_dict={x: batch[0], y_: batch[1]})\n",
    "\n",
    "            test_accuracy = accuracy.eval(feed_dict={x: mnist.test.images, y_: mnist.test.labels})\n",
    "            print(\"test accuracy epoch {}: {:.4f}\".format(epoch, test_accuracy))"
   ]
  },
  {
   "cell_type": "code",
   "execution_count": 21,
   "metadata": {},
   "outputs": [
    {
     "name": "stdout",
     "output_type": "stream",
     "text": [
      "step 0, batch training accuracy 0.0800\n",
      "step 500, batch training accuracy 0.9800\n",
      "test accuracy epoch 0: 0.9752\n",
      "step 0, batch training accuracy 0.9800\n",
      "step 500, batch training accuracy 0.9600\n",
      "test accuracy epoch 1: 0.9820\n",
      "step 0, batch training accuracy 0.9800\n",
      "step 500, batch training accuracy 0.9800\n",
      "test accuracy epoch 2: 0.9848\n",
      "step 0, batch training accuracy 1.0000\n",
      "step 500, batch training accuracy 1.0000\n",
      "test accuracy epoch 3: 0.9858\n",
      "step 0, batch training accuracy 1.0000\n",
      "step 500, batch training accuracy 1.0000\n",
      "test accuracy epoch 4: 0.9872\n",
      "step 0, batch training accuracy 0.9600\n",
      "step 500, batch training accuracy 1.0000\n",
      "test accuracy epoch 5: 0.9874\n",
      "step 0, batch training accuracy 1.0000\n",
      "step 500, batch training accuracy 1.0000\n",
      "test accuracy epoch 6: 0.9881\n",
      "step 0, batch training accuracy 0.9800\n",
      "step 500, batch training accuracy 1.0000\n",
      "test accuracy epoch 7: 0.9879\n",
      "learningrate 0.1 finished\n",
      "\n"
     ]
    }
   ],
   "source": [
    "tf.reset_default_graph()   # without reset, new nodes are added to previous ones\n",
    "x, y_conv, y_ = define_graph(filter_no = 16)\n",
    "learning_rates, test_accuracies = execute_learning_rates(x, y_conv, y_)"
   ]
  },
  {
   "cell_type": "code",
   "execution_count": 22,
   "metadata": {},
   "outputs": [
    {
     "data": {
      "text/plain": [
       "<matplotlib.legend.Legend at 0x7f6e4915c4a8>"
      ]
     },
     "execution_count": 22,
     "metadata": {},
     "output_type": "execute_result"
    },
    {
     "data": {
      "image/png": "[encoded data removed]",
      "text/plain": [
       "<matplotlib.figure.Figure at 0x7f6e48b36dd8>"
      ]
     },
     "metadata": {},
     "output_type": "display_data"
    }
   ],
   "source": [
    "plt.figure(figsize=(12, 8))\n",
    "for k, learning_rate in enumerate(learning_rates):\n",
    "    plt.plot(test_accuracies[k,:], label=\"learning rate: {}\".format(learning_rate))\n",
    "plt.grid(True)\n",
    "plt.xlabel(\"Epochs\")\n",
    "plt.legend(loc='best')"
   ]
  },
  {
   "cell_type": "code",
   "execution_count": 5,
   "metadata": {},
   "outputs": [
    {
     "name": "stdout",
     "output_type": "stream",
     "text": [
      "step 0, batch training accuracy 0.1400\n",
      "test accuracy epoch 0: 0.3803\n",
      "step 0, batch training accuracy 0.4400\n",
      "test accuracy epoch 1: 0.6690\n",
      "step 0, batch training accuracy 0.6600\n",
      "test accuracy epoch 2: 0.8815\n",
      "step 0, batch training accuracy 0.7600\n",
      "test accuracy epoch 3: 0.8767\n",
      "tests with 4 filters finished \n",
      "\n",
      "step 0, batch training accuracy 0.1200\n",
      "test accuracy epoch 0: 0.6283\n",
      "step 0, batch training accuracy 0.6600\n",
      "test accuracy epoch 1: 0.8877\n",
      "step 0, batch training accuracy 0.9200\n",
      "test accuracy epoch 2: 0.9178\n",
      "step 0, batch training accuracy 0.9000\n",
      "test accuracy epoch 3: 0.9164\n",
      "tests with 8 filters finished \n",
      "\n",
      "step 0, batch training accuracy 0.1000\n",
      "test accuracy epoch 0: 0.7065\n",
      "step 0, batch training accuracy 0.6400\n",
      "test accuracy epoch 1: 0.8446\n",
      "step 0, batch training accuracy 0.8400\n",
      "test accuracy epoch 2: 0.9213\n",
      "step 0, batch training accuracy 0.9200\n",
      "test accuracy epoch 3: 0.9292\n",
      "tests with 12 filters finished \n",
      "\n",
      "step 0, batch training accuracy 0.1000\n",
      "test accuracy epoch 0: 0.7920\n",
      "step 0, batch training accuracy 0.8600\n",
      "test accuracy epoch 1: 0.9028\n",
      "step 0, batch training accuracy 0.9000\n",
      "test accuracy epoch 2: 0.9014\n",
      "step 0, batch training accuracy 0.9400\n",
      "test accuracy epoch 3: 0.9118\n",
      "tests with 16 filters finished \n",
      "\n",
      "step 0, batch training accuracy 0.0800\n",
      "test accuracy epoch 0: 0.6671\n",
      "step 0, batch training accuracy 0.7000\n",
      "test accuracy epoch 1: 0.9111\n",
      "step 0, batch training accuracy 0.9000\n",
      "test accuracy epoch 2: 0.9076\n",
      "step 0, batch training accuracy 0.9000\n",
      "test accuracy epoch 3: 0.8712\n",
      "tests with 24 filters finished \n",
      "\n",
      "step 0, batch training accuracy 0.1400\n",
      "test accuracy epoch 0: 0.7030\n",
      "step 0, batch training accuracy 0.8400\n",
      "test accuracy epoch 1: 0.9120\n",
      "step 0, batch training accuracy 0.9200\n",
      "test accuracy epoch 2: 0.9338\n",
      "step 0, batch training accuracy 0.9400\n",
      "test accuracy epoch 3: 0.9320\n",
      "tests with 32 filters finished \n",
      "\n",
      "runtimes: [ 12.03366637  14.6747849   18.16528177  21.87817836  29.77512455\n",
      "  41.40291834]\n",
      "param_nos: [ 26694  52258  78110 104250 157394 211690]\n"
     ]
    }
   ],
   "source": [
    "# filters = (8,16,32,64,128,256)\n",
    "filters = (4,8,12,16,24,32)\n",
    "param_nos = np.zeros_like(filters)\n",
    "runtimes = np.zeros_like(filters,dtype=float)\n",
    "for i, filter in enumerate(filters):\n",
    "    t0 = time.time()\n",
    "    tf.reset_default_graph()   # without reset, new nodes are added to previous ones\n",
    "    x, y_conv, y_ = define_graph(filter_no = filter)\n",
    "    execute_filters(x, y_conv, y_)    # train and test with updated graph\n",
    "    runtimes[i] = time.time() - t0\n",
    "    param_nos[i] = count_number_trainable_params()\n",
    "    print(\"tests with {} filters finished \\n\".format(filter))\n",
    "\n",
    "print(\"runtimes: {}\".format(runtimes))\n",
    "print(\"param_nos: {}\".format(param_nos))"
   ]
  },
  {
   "cell_type": "code",
   "execution_count": 7,
   "metadata": {},
   "outputs": [
    {
     "data": {
      "text/plain": [
       "Text(0,0.5,'runtime / seconds')"
      ]
     },
     "execution_count": 7,
     "metadata": {},
     "output_type": "execute_result"
    },
    {
     "data": {
      "image/png": "[encoded data removed]",
      "text/plain": [
       "<matplotlib.figure.Figure at 0x7fc3670eb8d0>"
      ]
     },
     "metadata": {},
     "output_type": "display_data"
    }
   ],
   "source": [
    "plt.figure(figsize=(12, 8))\n",
    "# plt.xscale('log')\n",
    "# plt.yscale('log')\n",
    "plt.scatter(param_nos, runtimes)\n",
    "\n",
    "# for k, learning_rate in enumerate(param_nos):\n",
    "#     plt.plot(test_accuracies[k,:], label=\"learning rate: {}\".format(learning_rate))\n",
    "plt.grid(True)\n",
    "plt.xlabel(\"total number of variable parameters\")\n",
    "plt.ylabel(\"runtime / seconds\")"
   ]
  },
  {
   "cell_type": "code",
   "execution_count": null,
   "metadata": {},
   "outputs": [],
   "source": []
  }
 ],
 "metadata": {
  "kernelspec": {
   "display_name": "Python 3",
   "language": "python",
   "name": "python3"
  },
  "language_info": {
   "codemirror_mode": {
    "name": "ipython",
    "version": 3
   },
   "file_extension": ".py",
   "mimetype": "text/x-python",
   "name": "python",
   "nbconvert_exporter": "python",
   "pygments_lexer": "ipython3",
   "version": "3.5.2"
  }
 },
 "nbformat": 4,
 "nbformat_minor": 1
}
