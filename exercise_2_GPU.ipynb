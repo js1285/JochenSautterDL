{
 "cells": [
  {
   "cell_type": "code",
   "execution_count": 2,
   "metadata": {},
   "outputs": [],
   "source": [
    "%matplotlib inline\n",
    "import numpy as np\n",
    "from IPython.core.debugger import set_trace\n",
    "import time\n",
    "\n",
    "# import _pickle as cPickle\n",
    "# import os\n",
    "# import gzip\n",
    "# from IPython.core.debugger import set_trace\n",
    "# import scipy.optimize\n",
    "import matplotlib.pyplot as plt\n",
    "import tensorflow as tf\n",
    "\n",
    "from __future__ import absolute_import\n",
    "from __future__ import division\n",
    "from __future__ import print_function\n",
    "\n",
    "import argparse\n",
    "import sys"
   ]
  },
  {
   "cell_type": "markdown",
   "metadata": {},
   "source": [
    "# Second exercise: CNN - GPU version\n",
    "In this exercise you will implement a CNN"
   ]
  },
  {
   "cell_type": "code",
   "execution_count": 2,
   "metadata": {},
   "outputs": [
    {
     "name": "stdout",
     "output_type": "stream",
     "text": [
      "Extracting MNIST_data/train-images-idx3-ubyte.gz\n",
      "Extracting MNIST_data/train-labels-idx1-ubyte.gz\n",
      "Extracting MNIST_data/t10k-images-idx3-ubyte.gz\n",
      "Extracting MNIST_data/t10k-labels-idx1-ubyte.gz\n",
      "mnist Datasets(train=<tensorflow.contrib.learn.python.learn.datasets.mnist.DataSet object at 0x7febac95d940>, validation=<tensorflow.contrib.learn.python.learn.datasets.mnist.DataSet object at 0x7febac95d320>, test=<tensorflow.contrib.learn.python.learn.datasets.mnist.DataSet object at 0x7febac95e128>)\n"
     ]
    }
   ],
   "source": [
    "# load data\n",
    "from tensorflow.examples.tutorials.mnist import input_data\n",
    "mnist = input_data.read_data_sets(\"MNIST_data/\", one_hot=True)\n",
    "# set_trace()\n",
    "print(\"mnist {}\".format(mnist))\n",
    "# set_trace()"
   ]
  },
  {
   "cell_type": "markdown",
   "metadata": {},
   "source": []
  },
  {
   "cell_type": "code",
   "execution_count": 3,
   "metadata": {},
   "outputs": [],
   "source": [
    "def define_graph(filter_no = 16):\n",
    "\n",
    "    # define input variable\n",
    "    x = tf.placeholder(tf.float32, [None, 784])\n",
    "    y_ = tf.placeholder(tf.float32, [None, 10])\n",
    "    \n",
    "    # initialize weights with a small amount of noise for symmetry breaking, and to prevent 0 gradients\n",
    "    # The generated values follow a normal distribution with specified mean and standard deviation, \n",
    "    # except that values whose magnitude is more than 2 standard deviations from the mean are dropped and re-picked.\n",
    "    def weight_variable(shape):\n",
    "      initial = tf.truncated_normal(shape, stddev=0.1)\n",
    "      return tf.Variable(initial)\n",
    "\n",
    "    # define small positive constant bias\n",
    "    def bias_variable(shape):\n",
    "      initial = tf.constant(0.1, shape=shape)\n",
    "      return tf.Variable(initial)\n",
    "\n",
    "    # Computes a 2-D convolution given 4-D input and filter tensors. returning 4D tensor of same type as x\n",
    "    # ? means zero padding überall 2, oder ?\n",
    "    # X has 4D data format [batch, height, width, color channels]\n",
    "    # filter w has shape [filter_height, filter_width, in_channels, out_channels]  (no of filters, first colors...?)\n",
    "    # strides = The stride of the sliding window for each dimension of input \n",
    "    def conv2d(x, W):\n",
    "      return tf.nn.conv2d(x, W, strides=[1, 1, 1, 1], padding='SAME')\n",
    "\n",
    "    def max_pool_2x2(x):\n",
    "      return tf.nn.max_pool(x, ksize=[1, 2, 2, 1],\n",
    "                            strides=[1, 2, 2, 1], padding='SAME')\n",
    "\n",
    "    # first convolutional layer with 16 filters, one color\n",
    "    # initialise weights and bias (slightly randomized)\n",
    "    # 3 x 3, 1 input (only one color), 16 output channels\n",
    "    W_conv1 = weight_variable([3, 3, 1, filter_no])\n",
    "    b_conv1 = bias_variable([filter_no])\n",
    "\n",
    "    # define tensor representing input layer: reshape flattened 748 Vector to 4d tensor 28 x 28 image matrices\n",
    "    # and the final dimension corresponding to the number of color channels.\n",
    "    x_image = tf.reshape(x, [-1, 28, 28, 1])\n",
    "\n",
    "    # convolve, same size (padding, stride...), reduce size to 14x14 by maxpooling\n",
    "    h_conv1 = tf.nn.relu(conv2d(x_image, W_conv1) + b_conv1)\n",
    "    h_pool1 = max_pool_2x2(h_conv1)\n",
    "\n",
    "    # define second layer convolving same size, \n",
    "    W_conv2 = weight_variable([3, 3, filter_no, filter_no])  # ??\n",
    "    b_conv2 = bias_variable([filter_no])\n",
    "\n",
    "    # convolve, same size (padding, stride...), reduce size to 7x7 by maxpooling\n",
    "    h_conv2 = tf.nn.relu(conv2d(h_pool1, W_conv2) + b_conv2)\n",
    "    h_pool2 = max_pool_2x2(h_conv2)\n",
    "\n",
    "    # we add a fully-connected layer with 128 neurons to allow processing on the entire image.\n",
    "    # We reshape the tensor from the pooling layer into a batch of vectors, multiply by a weight matrix, add a bias, \n",
    "    # and apply a ReLU.\n",
    "    W_fc1 = weight_variable([7 * 7 * filter_no, 128])\n",
    "    b_fc1 = bias_variable([128])\n",
    "\n",
    "    h_pool2_flat = tf.reshape(h_pool2, [-1, 7*7*filter_no])   # shape is inferred as to fit to second argument\n",
    "    #test1 = tf.shape(h_pool2_flat)\n",
    "    #print(\"test1: {}\".format(test1))\n",
    "    #test2 = h_pool2_flat.get_shape()\n",
    "    #print(\"test2: {}\".format(test2))\n",
    "    h_fc1 = tf.nn.relu(tf.matmul(h_pool2_flat, W_fc1) + b_fc1)\n",
    "\n",
    "    # implement dropout\n",
    "    # keep_prob = tf.placeholder(tf.float32)\n",
    "    # h_fc1_drop = tf.nn.dropout(h_fc1, keep_prob)\n",
    "\n",
    "    # final fully connected layer\n",
    "    W_fc2 = weight_variable([128, 10])\n",
    "    b_fc2 = bias_variable([10])\n",
    "\n",
    "    # y_conv = tf.matmul(h_fc1_drop, W_fc2) + b_fc2\n",
    "    y_conv = tf.matmul(h_fc1, W_fc2) + b_fc2\n",
    "\n",
    "    return (x, y_conv, y_)\n",
    "\n",
    "def count_number_trainable_params():\n",
    "    # Counts the number of trainable variables.\n",
    "    tot_nb_params = 0\n",
    "    for trainable_variable in tf.trainable_variables():\n",
    "        shape = trainable_variable.get_shape() # e.g [D,F] or [W,H,C]\n",
    "        current_nb_params = get_nb_params_shape(shape)\n",
    "        tot_nb_params = tot_nb_params + current_nb_params\n",
    "    return tot_nb_params\n",
    "\n",
    "def get_nb_params_shape(shape):\n",
    "    # Computes the total number of params for a given shape.\n",
    "    # Works for any number of shapes etc [D,F] or [W,H,C] computes D*F and W*H*C.\n",
    "    nb_params = 1\n",
    "    for dim in shape:\n",
    "        nb_params = nb_params*int(dim)\n",
    "    return nb_params "
   ]
  },
  {
   "cell_type": "code",
   "execution_count": 4,
   "metadata": {},
   "outputs": [],
   "source": [
    "def execute_learning_rates(x, y_conv, y_):\n",
    "    cross_entropy = tf.reduce_mean(tf.nn.softmax_cross_entropy_with_logits(labels=y_, logits=y_conv))\n",
    "    train_step = tf.train.GradientDescentOptimizer(0.1).minimize(cross_entropy)\n",
    "    correct_prediction = tf.equal(tf.argmax(y_conv, 1), tf.argmax(y_, 1))\n",
    "    accuracy = tf.reduce_mean(tf.cast(correct_prediction, tf.float32))\n",
    "\n",
    "    epochs = 8\n",
    "    # learning_rates = np.array([0.1,0.01,0.001,0.0001])\n",
    "    learning_rates = np.array([0.5,0.3,0.2])\n",
    "    learning_rates = np.array([0.1])\n",
    "    test_accuracies = np.zeros([learning_rates.shape[0],epochs])\n",
    "\n",
    "    with tf.Session() as sess:\n",
    "\n",
    "        for k, learning_rate in enumerate(learning_rates):\n",
    "            train_step = tf.train.GradientDescentOptimizer(learning_rate).minimize(cross_entropy)\n",
    "            sess.run(tf.global_variables_initializer())\n",
    "            for epoch in range(epochs):\n",
    "                for i in range(1000):\n",
    "                    batch = mnist.train.next_batch(50)\n",
    "                    if i % 500 == 0:\n",
    "                        train_accuracy = accuracy.eval(feed_dict={x: batch[0], y_: batch[1]})\n",
    "                        print(\"step {}, batch training accuracy {:.4f}\".format(i, train_accuracy))\n",
    "                    train_step.run(feed_dict={x: batch[0], y_: batch[1]})\n",
    "\n",
    "                test_accuracy = accuracy.eval(feed_dict={x: mnist.test.images, y_: mnist.test.labels})\n",
    "                test_accuracies[k,epoch] = test_accuracy\n",
    "                print(\"test accuracy epoch {}: {:.4f}\".format(epoch, test_accuracy))\n",
    "            print(\"learningrate {} finished\\n\".format(learning_rate))\n",
    "\n",
    "    return(learning_rates, test_accuracies)\n",
    "\n",
    "def execute_filters(x, y_conv, y_):\n",
    "    cross_entropy = tf.reduce_mean(tf.nn.softmax_cross_entropy_with_logits(labels=y_, logits=y_conv))\n",
    "    train_step = tf.train.GradientDescentOptimizer(0.1).minimize(cross_entropy)\n",
    "    # train_step = tf.train.AdamOptimizer(1e-2).minimize(cross_entropy)\n",
    "    correct_prediction = tf.equal(tf.argmax(y_conv, 1), tf.argmax(y_, 1))\n",
    "    accuracy = tf.reduce_mean(tf.cast(correct_prediction, tf.float32))\n",
    "\n",
    "    epochs = 4\n",
    "    learning_rate = 0.1\n",
    "\n",
    "    with tf.Session() as sess:\n",
    "        train_step = tf.train.GradientDescentOptimizer(learning_rate).minimize(cross_entropy)\n",
    "        sess.run(tf.global_variables_initializer())\n",
    "        for epoch in range(epochs):\n",
    "            for i in range(50):\n",
    "                batch = mnist.train.next_batch(50)\n",
    "                if i % 50 == 0:\n",
    "                    train_accuracy = accuracy.eval(feed_dict={x: batch[0], y_: batch[1]})\n",
    "                    print(\"step {}, batch training accuracy {:.4f}\".format(i, train_accuracy))\n",
    "                train_step.run(feed_dict={x: batch[0], y_: batch[1]})\n",
    "\n",
    "            test_accuracy = accuracy.eval(feed_dict={x: mnist.test.images, y_: mnist.test.labels})\n",
    "            print(\"test accuracy epoch {}: {:.4f}\".format(epoch, test_accuracy))"
   ]
  },
  {
   "cell_type": "code",
   "execution_count": 5,
   "metadata": {},
   "outputs": [
    {
     "name": "stdout",
     "output_type": "stream",
     "text": [
      "step 0, batch training accuracy 0.0800\n",
      "step 500, batch training accuracy 0.9600\n",
      "test accuracy epoch 0: 0.9741\n",
      "step 0, batch training accuracy 0.9600\n",
      "step 500, batch training accuracy 0.9800\n",
      "test accuracy epoch 1: 0.9819\n",
      "step 0, batch training accuracy 1.0000\n",
      "step 500, batch training accuracy 0.9600\n",
      "test accuracy epoch 2: 0.9817\n",
      "step 0, batch training accuracy 0.9600\n",
      "step 500, batch training accuracy 0.9600\n",
      "test accuracy epoch 3: 0.9835\n",
      "step 0, batch training accuracy 1.0000\n",
      "step 500, batch training accuracy 1.0000\n",
      "test accuracy epoch 4: 0.9843\n",
      "step 0, batch training accuracy 0.9800\n",
      "step 500, batch training accuracy 1.0000\n",
      "test accuracy epoch 5: 0.9883\n",
      "step 0, batch training accuracy 1.0000\n",
      "step 500, batch training accuracy 1.0000\n",
      "test accuracy epoch 6: 0.9876\n",
      "step 0, batch training accuracy 1.0000\n",
      "step 500, batch training accuracy 1.0000\n",
      "test accuracy epoch 7: 0.9883\n",
      "learningrate 0.1 finished\n",
      "\n"
     ]
    }
   ],
   "source": [
    "tf.reset_default_graph()   # without reset, new nodes are added to previous ones\n",
    "x, y_conv, y_ = define_graph(filter_no = 16)\n",
    "learning_rates, test_accuracies = execute_learning_rates(x, y_conv, y_)"
   ]
  },
  {
   "cell_type": "code",
   "execution_count": 6,
   "metadata": {},
   "outputs": [
    {
     "data": {
      "text/plain": [
       "<matplotlib.legend.Legend at 0x7feba828d0b8>"
      ]
     },
     "execution_count": 6,
     "metadata": {},
     "output_type": "execute_result"
    },
    {
     "data": {
      "image/png": "[encoded data removed]",
      "text/plain": [
       "<matplotlib.figure.Figure at 0x7feba82f0978>"
      ]
     },
     "metadata": {},
     "output_type": "display_data"
    }
   ],
   "source": [
    "plt.figure(figsize=(12, 8))\n",
    "for k, learning_rate in enumerate(learning_rates):\n",
    "    plt.plot(test_accuracies[k,:], label=\"learning rate: {}\".format(learning_rate))\n",
    "plt.grid(True)\n",
    "plt.xlabel(\"Epochs\")\n",
    "plt.legend(loc='best')"
   ]
  },
  {
   "cell_type": "code",
   "execution_count": 7,
   "metadata": {},
   "outputs": [
    {
     "name": "stdout",
     "output_type": "stream",
     "text": [
      "step 0, batch training accuracy 0.0800\n",
      "test accuracy epoch 0: 0.4667\n",
      "step 0, batch training accuracy 0.4600\n",
      "test accuracy epoch 1: 0.7646\n",
      "step 0, batch training accuracy 0.7200\n",
      "test accuracy epoch 2: 0.8982\n",
      "step 0, batch training accuracy 0.9200\n",
      "test accuracy epoch 3: 0.8141\n",
      "tests with 4 filters finished \n",
      "\n",
      "step 0, batch training accuracy 0.1200\n",
      "test accuracy epoch 0: 0.4332\n",
      "step 0, batch training accuracy 0.3400\n",
      "test accuracy epoch 1: 0.7985\n",
      "step 0, batch training accuracy 0.7400\n",
      "test accuracy epoch 2: 0.8913\n",
      "step 0, batch training accuracy 0.8200\n",
      "test accuracy epoch 3: 0.9146\n",
      "tests with 8 filters finished \n",
      "\n",
      "step 0, batch training accuracy 0.1200\n",
      "test accuracy epoch 0: 0.6971\n",
      "step 0, batch training accuracy 0.7600\n",
      "test accuracy epoch 1: 0.8866\n",
      "step 0, batch training accuracy 0.8600\n",
      "test accuracy epoch 2: 0.8997\n",
      "step 0, batch training accuracy 0.9400\n",
      "test accuracy epoch 3: 0.9259\n",
      "tests with 12 filters finished \n",
      "\n",
      "step 0, batch training accuracy 0.1400\n",
      "test accuracy epoch 0: 0.6228\n",
      "step 0, batch training accuracy 0.4800\n",
      "test accuracy epoch 1: 0.9041\n",
      "step 0, batch training accuracy 0.8800\n",
      "test accuracy epoch 2: 0.9214\n",
      "step 0, batch training accuracy 0.9200\n",
      "test accuracy epoch 3: 0.9331\n",
      "tests with 16 filters finished \n",
      "\n",
      "step 0, batch training accuracy 0.1800\n",
      "test accuracy epoch 0: 0.6865\n",
      "step 0, batch training accuracy 0.7200\n",
      "test accuracy epoch 1: 0.9173\n",
      "step 0, batch training accuracy 0.9200\n",
      "test accuracy epoch 2: 0.9147\n",
      "step 0, batch training accuracy 0.9000\n",
      "test accuracy epoch 3: 0.8926\n",
      "tests with 24 filters finished \n",
      "\n",
      "step 0, batch training accuracy 0.1200\n",
      "test accuracy epoch 0: 0.8422\n",
      "step 0, batch training accuracy 0.8400\n",
      "test accuracy epoch 1: 0.9014\n",
      "step 0, batch training accuracy 0.8800\n",
      "test accuracy epoch 2: 0.9239\n",
      "step 0, batch training accuracy 0.9400\n",
      "test accuracy epoch 3: 0.9397\n",
      "tests with 32 filters finished \n",
      "\n",
      "runtimes: [  2.94909167   3.66390896   4.68529415   4.91512227   6.69053411\n",
      "  10.04262733]\n",
      "param_nos: [ 26694  52258  78110 104250 157394 211690]\n"
     ]
    }
   ],
   "source": [
    "# filters = (8,16,32)\n",
    "# filters = (8,16,32,64,128,256)\n",
    "filters = (4,8,12,16,24,32)\n",
    "param_nos = np.zeros_like(filters)\n",
    "runtimes = np.zeros_like(filters,dtype=float)\n",
    "for i, filter in enumerate(filters):\n",
    "    t0 = time.time()\n",
    "    tf.reset_default_graph()   # without reset, new nodes are added to previous ones\n",
    "    x, y_conv, y_ = define_graph(filter_no = filter)\n",
    "    execute_filters(x, y_conv, y_)    # train and test with updated graph\n",
    "    runtimes[i] = time.time() - t0\n",
    "    param_nos[i] = count_number_trainable_params()\n",
    "    print(\"tests with {} filters finished \\n\".format(filter))\n",
    "\n",
    "print(\"runtimes: {}\".format(runtimes))\n",
    "print(\"param_nos: {}\".format(param_nos))"
   ]
  },
  {
   "cell_type": "code",
   "execution_count": 8,
   "metadata": {},
   "outputs": [
    {
     "data": {
      "text/plain": [
       "Text(0,0.5,'runtime / seconds')"
      ]
     },
     "execution_count": 8,
     "metadata": {},
     "output_type": "execute_result"
    },
    {
     "data": {
      "image/png": "[encoded data removed]",
      "text/plain": [
       "<matplotlib.figure.Figure at 0x7feba828df98>"
      ]
     },
     "metadata": {},
     "output_type": "display_data"
    }
   ],
   "source": [
    "plt.figure(figsize=(12, 8))\n",
    "plt.scatter(param_nos, runtimes)\n",
    "plt.grid(True)\n",
    "plt.xlabel(\"total number of variable parameters\")\n",
    "plt.ylabel(\"runtime / seconds\")"
   ]
  },
  {
   "cell_type": "code",
   "execution_count": 9,
   "metadata": {},
   "outputs": [
    {
     "name": "stdout",
     "output_type": "stream",
     "text": [
      "step 0, batch training accuracy 0.0800\n",
      "test accuracy epoch 0: 0.7402\n",
      "step 0, batch training accuracy 0.7000\n",
      "test accuracy epoch 1: 0.8815\n",
      "step 0, batch training accuracy 0.8400\n",
      "test accuracy epoch 2: 0.8631\n",
      "step 0, batch training accuracy 0.8200\n",
      "test accuracy epoch 3: 0.9078\n",
      "tests with 8 filters finished \n",
      "\n",
      "step 0, batch training accuracy 0.0800\n",
      "test accuracy epoch 0: 0.8056\n",
      "step 0, batch training accuracy 0.7800\n",
      "test accuracy epoch 1: 0.8676\n",
      "step 0, batch training accuracy 0.8600\n",
      "test accuracy epoch 2: 0.8979\n",
      "step 0, batch training accuracy 0.7400\n",
      "test accuracy epoch 3: 0.9359\n",
      "tests with 16 filters finished \n",
      "\n",
      "step 0, batch training accuracy 0.0800\n",
      "test accuracy epoch 0: 0.8076\n",
      "step 0, batch training accuracy 0.7000\n",
      "test accuracy epoch 1: 0.9007\n",
      "step 0, batch training accuracy 0.8400\n",
      "test accuracy epoch 2: 0.9348\n",
      "step 0, batch training accuracy 0.9600\n",
      "test accuracy epoch 3: 0.9357\n",
      "tests with 32 filters finished \n",
      "\n",
      "step 0, batch training accuracy 0.0800\n",
      "test accuracy epoch 0: 0.8056\n",
      "step 0, batch training accuracy 0.7600\n",
      "test accuracy epoch 1: 0.9116\n",
      "step 0, batch training accuracy 0.9800\n",
      "test accuracy epoch 2: 0.9053\n",
      "step 0, batch training accuracy 0.9200\n",
      "test accuracy epoch 3: 0.9346\n",
      "tests with 64 filters finished \n",
      "\n",
      "step 0, batch training accuracy 0.1600\n",
      "test accuracy epoch 0: 0.7237\n",
      "step 0, batch training accuracy 0.6800\n",
      "test accuracy epoch 1: 0.8282\n",
      "step 0, batch training accuracy 0.7600\n",
      "test accuracy epoch 2: 0.9288\n",
      "step 0, batch training accuracy 0.8600\n",
      "test accuracy epoch 3: 0.9236\n",
      "tests with 128 filters finished \n",
      "\n",
      "step 0, batch training accuracy 0.0600\n",
      "test accuracy epoch 0: 0.5271\n",
      "step 0, batch training accuracy 0.5000\n",
      "test accuracy epoch 1: 0.7121\n",
      "step 0, batch training accuracy 0.8000\n",
      "test accuracy epoch 2: 0.8893\n",
      "step 0, batch training accuracy 0.8600\n",
      "test accuracy epoch 3: 0.9213\n",
      "tests with 256 filters finished \n",
      "\n",
      "runtimes: [    3.6129353      4.9124074     10.15541172    36.31067228   127.31648421\n",
      "  1232.09426069]\n",
      "param_nos: [  52258  104250  211690  440394  953098 2199690]\n"
     ]
    }
   ],
   "source": [
    "filters = (8,16,32,64,128,256)\n",
    "param_nos = np.zeros_like(filters)\n",
    "runtimes = np.zeros_like(filters,dtype=float)\n",
    "for i, filter in enumerate(filters):\n",
    "    t0 = time.time()\n",
    "    tf.reset_default_graph()   # without reset, new nodes are added to previous ones\n",
    "    x, y_conv, y_ = define_graph(filter_no = filter)\n",
    "    execute_filters(x, y_conv, y_)    # train and test with updated graph\n",
    "    runtimes[i] = time.time() - t0\n",
    "    param_nos[i] = count_number_trainable_params()\n",
    "    print(\"tests with {} filters finished \\n\".format(filter))\n",
    "\n",
    "print(\"runtimes: {}\".format(runtimes))\n",
    "print(\"param_nos: {}\".format(param_nos))"
   ]
  },
  {
   "cell_type": "code",
   "execution_count": 13,
   "metadata": {},
   "outputs": [
    {
     "data": {
      "text/plain": [
       "Text(0,0.5,'runtime / seconds')"
      ]
     },
     "execution_count": 13,
     "metadata": {},
     "output_type": "execute_result"
    },
    {
     "data": {
      "image/png": "[encoded data removed]",
      "text/plain": [
       "<matplotlib.figure.Figure at 0x7feba6a24a58>"
      ]
     },
     "metadata": {},
     "output_type": "display_data"
    }
   ],
   "source": [
    "plt.figure(figsize=(12, 8))\n",
    "plt.xscale('log')\n",
    "plt.yscale('log')\n",
    "plt.scatter(param_nos, runtimes)\n",
    "plt.grid(True)\n",
    "plt.xlabel(\"total number of variable parameters\")\n",
    "plt.ylabel(\"runtime / seconds\")"
   ]
  },
  {
   "cell_type": "code",
   "execution_count": 3,
   "metadata": {},
   "outputs": [
    {
     "ename": "NameError",
     "evalue": "name 'runtimes' is not defined",
     "output_type": "error",
     "traceback": [
      "\u001b[0;31m---------------------------------------------------------------------------\u001b[0m",
      "\u001b[0;31mNameError\u001b[0m                                 Traceback (most recent call last)",
      "\u001b[0;32m<ipython-input-3-a3a3e7237401>\u001b[0m in \u001b[0;36m<module>\u001b[0;34m()\u001b[0m\n\u001b[1;32m      2\u001b[0m \u001b[0;31m# plt.xscale('log')\u001b[0m\u001b[0;34m\u001b[0m\u001b[0;34m\u001b[0m\u001b[0m\n\u001b[1;32m      3\u001b[0m \u001b[0;31m# plt.yscale('log')\u001b[0m\u001b[0;34m\u001b[0m\u001b[0;34m\u001b[0m\u001b[0m\n\u001b[0;32m----> 4\u001b[0;31m \u001b[0mruntimes_sqrt\u001b[0m \u001b[0;34m=\u001b[0m \u001b[0mruntimes\u001b[0m\u001b[0;34m**\u001b[0m\u001b[0;36m0.5\u001b[0m\u001b[0;34m\u001b[0m\u001b[0m\n\u001b[0m\u001b[1;32m      5\u001b[0m \u001b[0mplt\u001b[0m\u001b[0;34m.\u001b[0m\u001b[0mscatter\u001b[0m\u001b[0;34m(\u001b[0m\u001b[0mparam_nos\u001b[0m\u001b[0;34m,\u001b[0m \u001b[0mruntimes_sqrt\u001b[0m\u001b[0;34m)\u001b[0m\u001b[0;34m\u001b[0m\u001b[0m\n\u001b[1;32m      6\u001b[0m \u001b[0mplt\u001b[0m\u001b[0;34m.\u001b[0m\u001b[0mgrid\u001b[0m\u001b[0;34m(\u001b[0m\u001b[0;32mTrue\u001b[0m\u001b[0;34m)\u001b[0m\u001b[0;34m\u001b[0m\u001b[0m\n",
      "\u001b[0;31mNameError\u001b[0m: name 'runtimes' is not defined"
     ]
    },
    {
     "data": {
      "text/plain": [
       "<matplotlib.figure.Figure at 0x7f1dc3d0bef0>"
      ]
     },
     "metadata": {},
     "output_type": "display_data"
    }
   ],
   "source": [
    "plt.figure(figsize=(12, 8))\n",
    "# plt.xscale('log')\n",
    "# plt.yscale('log')\n",
    "runtimes_sqrt = runtimes**0.5\n",
    "plt.scatter(param_nos, runtimes_sqrt)\n",
    "plt.grid(True)\n",
    "plt.xlabel(\"total number of variable parameters\")\n",
    "plt.ylabel(\"runtime**0.33\")"
   ]
  },
  {
   "cell_type": "code",
   "execution_count": null,
   "metadata": {},
   "outputs": [],
   "source": []
  }
 ],
 "metadata": {
  "kernelspec": {
   "display_name": "Python 3",
   "language": "python",
   "name": "python3"
  },
  "language_info": {
   "codemirror_mode": {
    "name": "ipython",
    "version": 3
   },
   "file_extension": ".py",
   "mimetype": "text/x-python",
   "name": "python",
   "nbconvert_exporter": "python",
   "pygments_lexer": "ipython3",
   "version": "3.5.2"
  }
 },
 "nbformat": 4,
 "nbformat_minor": 1
}
